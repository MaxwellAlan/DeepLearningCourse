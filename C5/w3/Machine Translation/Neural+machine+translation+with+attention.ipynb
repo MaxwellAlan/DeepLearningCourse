{
 "cells": [
  {
   "cell_type": "markdown",
   "metadata": {},
   "source": [
    "# Neural Machine Translation\n",
    "\n",
    "Welcome to your first programming assignment for this week! \n",
    "\n",
    "You will build a Neural Machine Translation (NMT) model to translate human readable dates (\"25th of June, 2009\") into machine readable dates (\"2009-06-25\"). You will do this using an attention model, one of the most sophisticated sequence to sequence models. \n",
    "\n",
    "This notebook was produced together with NVIDIA's Deep Learning Institute. \n",
    "\n",
    "Let's load all the packages you will need for this assignment."
   ]
  },
  {
   "cell_type": "code",
   "execution_count": 1,
   "metadata": {},
   "outputs": [
    {
     "name": "stderr",
     "output_type": "stream",
     "text": [
      "E:\\Software\\anaconda\\envs\\ml\\lib\\site-packages\\h5py\\__init__.py:36: FutureWarning: Conversion of the second argument of issubdtype from `float` to `np.floating` is deprecated. In future, it will be treated as `np.float64 == np.dtype(float).type`.\n",
      "  from ._conv import register_converters as _register_converters\n",
      "Using TensorFlow backend.\n"
     ]
    }
   ],
   "source": [
    "from keras.layers import Bidirectional, Concatenate, Permute, Dot, Input, LSTM, Multiply\n",
    "from keras.layers import RepeatVector, Dense, Activation, Lambda\n",
    "from keras.optimizers import Adam\n",
    "from keras.utils import to_categorical\n",
    "from keras.models import load_model, Model\n",
    "import keras.backend as K\n",
    "import numpy as np\n",
    "\n",
    "from faker import Faker\n",
    "import random\n",
    "from tqdm import tqdm\n",
    "from babel.dates import format_date\n",
    "from nmt_utils import *\n",
    "import matplotlib.pyplot as plt\n",
    "%matplotlib inline"
   ]
  },
  {
   "cell_type": "markdown",
   "metadata": {},
   "source": [
    "## 1 - Translating human readable dates into machine readable dates\n",
    "\n",
    "The model you will build here could be used to translate from one language to another, such as translating from English to Hindi. However, language translation requires massive datasets and usually takes days of training on GPUs. To give you a place to experiment with these models even without using massive datasets, we will instead use a simpler \"date translation\" task. \n",
    "\n",
    "The network will input a date written in a variety of possible formats (*e.g. \"the 29th of August 1958\", \"03/30/1968\", \"24 JUNE 1987\"*) and translate them into standardized, machine readable dates (*e.g. \"1958-08-29\", \"1968-03-30\", \"1987-06-24\"*). We will have the network learn to output dates in the common machine-readable format YYYY-MM-DD. \n",
    "\n",
    "\n",
    "\n",
    "<!-- \n",
    "Take a look at [nmt_utils.py](./nmt_utils.py) to see all the formatting. Count and figure out how the formats work, you will need this knowledge later. !--> "
   ]
  },
  {
   "cell_type": "markdown",
   "metadata": {},
   "source": [
    "### 1.1 - Dataset\n",
    "\n",
    "We will train the model on a dataset of 10000 human readable dates and their equivalent, standardized, machine readable dates. Let's run the following cells to load the dataset and print some examples. "
   ]
  },
  {
   "cell_type": "code",
   "execution_count": 2,
   "metadata": {},
   "outputs": [
    {
     "name": "stderr",
     "output_type": "stream",
     "text": [
      "100%|█████████████████████████████████| 10000/10000 [00:00<00:00, 14597.41it/s]\n"
     ]
    }
   ],
   "source": [
    "m = 10000\n",
    "dataset, human_vocab, machine_vocab, inv_machine_vocab = load_dataset(m)"
   ]
  },
  {
   "cell_type": "code",
   "execution_count": 3,
   "metadata": {},
   "outputs": [
    {
     "data": {
      "text/plain": [
       "[('9 may 1998', '1998-05-09'),\n",
       " ('10.09.70', '1970-09-10'),\n",
       " ('4/28/90', '1990-04-28'),\n",
       " ('thursday january 26 1995', '1995-01-26'),\n",
       " ('monday march 7 1983', '1983-03-07'),\n",
       " ('sunday may 22 1988', '1988-05-22'),\n",
       " ('tuesday july 8 2008', '2008-07-08'),\n",
       " ('08 sep 1999', '1999-09-08'),\n",
       " ('1 jan 1981', '1981-01-01'),\n",
       " ('monday may 22 1995', '1995-05-22')]"
      ]
     },
     "execution_count": 3,
     "metadata": {},
     "output_type": "execute_result"
    }
   ],
   "source": [
    "dataset[:10]"
   ]
  },
  {
   "cell_type": "markdown",
   "metadata": {},
   "source": [
    "You've loaded:\n",
    "- `dataset`: a list of tuples of (human readable date, machine readable date)\n",
    "- `human_vocab`: a python dictionary mapping all characters used in the human readable dates to an integer-valued index \n",
    "- `machine_vocab`: a python dictionary mapping all characters used in machine readable dates to an integer-valued index. These indices are not necessarily consistent with `human_vocab`. \n",
    "- `inv_machine_vocab`: the inverse dictionary of `machine_vocab`, mapping from indices back to characters. \n",
    "\n",
    "Let's preprocess the data and map the raw text data into the index values. We will also use Tx=30 (which we assume is the maximum length of the human readable date; if we get a longer input, we would have to truncate it) and Ty=10 (since \"YYYY-MM-DD\" is 10 characters long). "
   ]
  },
  {
   "cell_type": "code",
   "execution_count": 4,
   "metadata": {},
   "outputs": [
    {
     "name": "stdout",
     "output_type": "stream",
     "text": [
      "X.shape: (10000, 30)\n",
      "Y.shape: (10000, 10)\n",
      "Xoh.shape: (10000, 30, 37)\n",
      "Yoh.shape: (10000, 10, 11)\n"
     ]
    }
   ],
   "source": [
    "Tx = 30\n",
    "Ty = 10\n",
    "X, Y, Xoh, Yoh = preprocess_data(dataset, human_vocab, machine_vocab, Tx, Ty)\n",
    "\n",
    "print(\"X.shape:\", X.shape)\n",
    "print(\"Y.shape:\", Y.shape)\n",
    "print(\"Xoh.shape:\", Xoh.shape)\n",
    "print(\"Yoh.shape:\", Yoh.shape)"
   ]
  },
  {
   "cell_type": "markdown",
   "metadata": {},
   "source": [
    "You now have:\n",
    "- `X`: a processed version of the human readable dates in the training set, where each character is replaced by an index mapped to the character via `human_vocab`. Each date is further padded to $T_x$ values with a special character (< pad >). `X.shape = (m, Tx)`\n",
    "- `Y`: a processed version of the machine readable dates in the training set, where each character is replaced by the index it is mapped to in `machine_vocab`. You should have `Y.shape = (m, Ty)`. \n",
    "- `Xoh`: one-hot version of `X`, the \"1\" entry's index is mapped to the character thanks to `human_vocab`. `Xoh.shape = (m, Tx, len(human_vocab))`\n",
    "- `Yoh`: one-hot version of `Y`, the \"1\" entry's index is mapped to the character thanks to `machine_vocab`. `Yoh.shape = (m, Tx, len(machine_vocab))`. Here, `len(machine_vocab) = 11` since there are 11 characters ('-' as well as 0-9). \n"
   ]
  },
  {
   "cell_type": "markdown",
   "metadata": {},
   "source": [
    "Lets also look at some examples of preprocessed training examples. Feel free to play with `index` in the cell below to navigate the dataset and see how source/target dates are preprocessed. "
   ]
  },
  {
   "cell_type": "code",
   "execution_count": 5,
   "metadata": {},
   "outputs": [
    {
     "name": "stdout",
     "output_type": "stream",
     "text": [
      "Source date: 9 may 1998\n",
      "Target date: 1998-05-09\n",
      "\n",
      "Source after preprocessing (indices): [12  0 24 13 34  0  4 12 12 11 36 36 36 36 36 36 36 36 36 36 36 36 36 36\n",
      " 36 36 36 36 36 36]\n",
      "Target after preprocessing (indices): [ 2 10 10  9  0  1  6  0  1 10]\n",
      "\n",
      "Source after preprocessing (one-hot): [[0. 0. 0. ... 0. 0. 0.]\n",
      " [1. 0. 0. ... 0. 0. 0.]\n",
      " [0. 0. 0. ... 0. 0. 0.]\n",
      " ...\n",
      " [0. 0. 0. ... 0. 0. 1.]\n",
      " [0. 0. 0. ... 0. 0. 1.]\n",
      " [0. 0. 0. ... 0. 0. 1.]]\n",
      "Target after preprocessing (one-hot): [[0. 0. 1. 0. 0. 0. 0. 0. 0. 0. 0.]\n",
      " [0. 0. 0. 0. 0. 0. 0. 0. 0. 0. 1.]\n",
      " [0. 0. 0. 0. 0. 0. 0. 0. 0. 0. 1.]\n",
      " [0. 0. 0. 0. 0. 0. 0. 0. 0. 1. 0.]\n",
      " [1. 0. 0. 0. 0. 0. 0. 0. 0. 0. 0.]\n",
      " [0. 1. 0. 0. 0. 0. 0. 0. 0. 0. 0.]\n",
      " [0. 0. 0. 0. 0. 0. 1. 0. 0. 0. 0.]\n",
      " [1. 0. 0. 0. 0. 0. 0. 0. 0. 0. 0.]\n",
      " [0. 1. 0. 0. 0. 0. 0. 0. 0. 0. 0.]\n",
      " [0. 0. 0. 0. 0. 0. 0. 0. 0. 0. 1.]]\n"
     ]
    }
   ],
   "source": [
    "index = 0\n",
    "print(\"Source date:\", dataset[index][0])\n",
    "print(\"Target date:\", dataset[index][1])\n",
    "print()\n",
    "print(\"Source after preprocessing (indices):\", X[index])\n",
    "print(\"Target after preprocessing (indices):\", Y[index])\n",
    "print()\n",
    "print(\"Source after preprocessing (one-hot):\", Xoh[index])\n",
    "print(\"Target after preprocessing (one-hot):\", Yoh[index])"
   ]
  },
  {
   "cell_type": "markdown",
   "metadata": {},
   "source": [
    "## 2 - Neural machine translation with attention\n",
    "\n",
    "If you had to translate a book's paragraph from French to English, you would not read the whole paragraph, then close the book and translate. Even during the translation process, you would read/re-read and focus on the parts of the French paragraph corresponding to the parts of the English you are writing down. \n",
    "\n",
    "The attention mechanism tells a Neural Machine Translation model where it should pay attention to at any step. \n",
    "\n",
    "\n",
    "### 2.1 - Attention mechanism\n",
    "\n",
    "In this part, you will implement the attention mechanism presented in the lecture videos. Here is a figure to remind you how the model works. The diagram on the left shows the attention model. The diagram on the right shows what one \"Attention\" step does to calculate the attention variables $\\alpha^{\\langle t, t' \\rangle}$, which are used to compute the context variable $context^{\\langle t \\rangle}$ for each timestep in the output ($t=1, \\ldots, T_y$). \n",
    "\n",
    "<table>\n",
    "<td> \n",
    "<img src=\"images/attn_model.png\" style=\"width:500;height:500px;\"> <br>\n",
    "</td> \n",
    "<td> \n",
    "<img src=\"images/attn_mechanism.png\" style=\"width:500;height:500px;\"> <br>\n",
    "</td> \n",
    "</table>\n",
    "<caption><center> **Figure 1**: Neural machine translation with attention</center></caption>\n"
   ]
  },
  {
   "cell_type": "markdown",
   "metadata": {},
   "source": [
    "\n",
    "Here are some properties of the model that you may notice: \n",
    "\n",
    "- There are two separate LSTMs in this model (see diagram on the left). Because the one at the bottom of the picture is a Bi-directional LSTM and comes *before* the attention mechanism, we will call it *pre-attention* Bi-LSTM. The LSTM at the top of the diagram comes *after* the attention mechanism, so we will call it the *post-attention* LSTM. The pre-attention Bi-LSTM goes through $T_x$ time steps; the post-attention LSTM goes through $T_y$ time steps. \n",
    "\n",
    "- The post-attention LSTM passes $s^{\\langle t \\rangle}, c^{\\langle t \\rangle}$ from one time step to the next. In the lecture videos, we were using only a basic RNN for the post-activation sequence model, so the state captured by the RNN output activations $s^{\\langle t\\rangle}$. But since we are using an LSTM here, the LSTM has both the output activation $s^{\\langle t\\rangle}$ and the hidden cell state $c^{\\langle t\\rangle}$. However, unlike previous text generation examples (such as Dinosaurus in week 1), in this model the post-activation LSTM at time $t$ does will not take the specific generated $y^{\\langle t-1 \\rangle}$ as input; it only takes $s^{\\langle t\\rangle}$ and $c^{\\langle t\\rangle}$ as input. We have designed the model this way, because (unlike language generation where adjacent characters are highly correlated) there isn't as strong a dependency between the previous character and the next character in a YYYY-MM-DD date. \n",
    "\n",
    "- We use $a^{\\langle t \\rangle} = [\\overrightarrow{a}^{\\langle t \\rangle}; \\overleftarrow{a}^{\\langle t \\rangle}]$ to represent the concatenation of the activations of both the forward-direction and backward-directions of the pre-attention Bi-LSTM. \n",
    "\n",
    "- The diagram on the right uses a `RepeatVector` node to copy $s^{\\langle t-1 \\rangle}$'s value $T_x$ times, and then `Concatenation` to concatenate $s^{\\langle t-1 \\rangle}$ and $a^{\\langle t \\rangle}$ to compute $e^{\\langle t, t'}$, which is then passed through a softmax to compute $\\alpha^{\\langle t, t' \\rangle}$. We'll explain how to use `RepeatVector` and `Concatenation` in Keras below. \n",
    "\n",
    "Lets implement this model. You will start by implementing two functions: `one_step_attention()` and `model()`.\n",
    "\n",
    "**1) `one_step_attention()`**: At step $t$, given all the hidden states of the Bi-LSTM ($[a^{<1>},a^{<2>}, ..., a^{<T_x>}]$) and the previous hidden state of the second LSTM ($s^{<t-1>}$), `one_step_attention()` will compute the attention weights ($[\\alpha^{<t,1>},\\alpha^{<t,2>}, ..., \\alpha^{<t,T_x>}]$) and output the context vector (see Figure  1 (right) for details):\n",
    "$$context^{<t>} = \\sum_{t' = 0}^{T_x} \\alpha^{<t,t'>}a^{<t'>}\\tag{1}$$ \n",
    "\n",
    "Note that we are denoting the attention in this notebook $context^{\\langle t \\rangle}$. In the lecture videos, the context was denoted $c^{\\langle t \\rangle}$, but here we are calling it $context^{\\langle t \\rangle}$ to avoid confusion with the (post-attention) LSTM's internal memory cell variable, which is sometimes also denoted $c^{\\langle t \\rangle}$. \n",
    "  \n",
    "**2) `model()`**: Implements the entire model. It first runs the input through a Bi-LSTM to get back $[a^{<1>},a^{<2>}, ..., a^{<T_x>}]$. Then, it calls `one_step_attention()` $T_y$ times (`for` loop). At each iteration of this loop, it gives the computed context vector $c^{<t>}$ to the second LSTM, and runs the output of the LSTM through a dense layer with softmax activation to generate a prediction $\\hat{y}^{<t>}$. \n",
    "\n",
    "\n",
    "\n",
    "**Exercise**: Implement `one_step_attention()`. The function `model()` will call the layers in `one_step_attention()` $T_y$ using a for-loop, and it is important that all $T_y$ copies have the same weights. I.e., it should not re-initiaiize the weights every time. In other words, all $T_y$ steps should have shared weights. Here's how you can implement layers with shareable weights in Keras:\n",
    "1. Define the layer objects (as global variables for examples).\n",
    "2. Call these objects when propagating the input.\n",
    "\n",
    "We have defined the layers you need as global variables. Please run the following cells to create them. Please check the Keras documentation to make sure you understand what these layers are: [RepeatVector()](https://keras.io/layers/core/#repeatvector), [Concatenate()](https://keras.io/layers/merge/#concatenate), [Dense()](https://keras.io/layers/core/#dense), [Activation()](https://keras.io/layers/core/#activation), [Dot()](https://keras.io/layers/merge/#dot)."
   ]
  },
  {
   "cell_type": "code",
   "execution_count": 6,
   "metadata": {},
   "outputs": [],
   "source": [
    "# Defined shared layers as global variables\n",
    "repeator = RepeatVector(Tx)\n",
    "concatenator = Concatenate(axis=-1)\n",
    "densor1 = Dense(10, activation = \"tanh\")\n",
    "densor2 = Dense(1, activation = \"relu\")\n",
    "activator = Activation(softmax, name='attention_weights') # We are using a custom softmax(axis = 1) loaded in this notebook\n",
    "dotor = Dot(axes = 1)"
   ]
  },
  {
   "cell_type": "markdown",
   "metadata": {},
   "source": [
    "Now you can use these layers to implement `one_step_attention()`. In order to propagate a Keras tensor object X through one of these layers, use `layer(X)` (or `layer([X,Y])` if it requires multiple inputs.), e.g. `densor(X)` will propagate X through the `Dense(1)` layer defined above."
   ]
  },
  {
   "cell_type": "code",
   "execution_count": 7,
   "metadata": {},
   "outputs": [],
   "source": [
    "# GRADED FUNCTION: one_step_attention\n",
    "\n",
    "def one_step_attention(a, s_prev):\n",
    "    \"\"\"\n",
    "    Performs one step of attention: Outputs a context vector computed as a dot product of the attention weights\n",
    "    \"alphas\" and the hidden states \"a\" of the Bi-LSTM.\n",
    "    \n",
    "    Arguments:\n",
    "    a -- hidden state output of the Bi-LSTM, numpy-array of shape (m, Tx, 2*n_a)\n",
    "    s_prev -- previous hidden state of the (post-attention) LSTM, numpy-array of shape (m, n_s)\n",
    "    \n",
    "    Returns:\n",
    "    context -- context vector, input of the next (post-attetion) LSTM cell\n",
    "    \"\"\"\n",
    "    \n",
    "    ### START CODE HERE ###\n",
    "    # Use repeator to repeat s_prev to be of shape (m, Tx, n_s) so that you can concatenate it with all hidden states \"a\" (≈ 1 line)\n",
    "    s_prev = repeator(s_prev)\n",
    "    # Use concatenator to concatenate a and s_prev on the last axis (≈ 1 line)\n",
    "    concat = concatenator([a, s_prev])\n",
    "    # Use densor1 to propagate concat through a small fully-connected neural network to compute the \"intermediate energies\" variable e. (≈1 lines)\n",
    "    e = densor1(concat)\n",
    "    # Use densor2 to propagate e through a small fully-connected neural network to compute the \"energies\" variable energies. (≈1 lines)\n",
    "    energies = densor2(e)\n",
    "    # Use \"activator\" on \"energies\" to compute the attention weights \"alphas\" (≈ 1 line)\n",
    "    alphas = activator(energies)\n",
    "    # Use dotor together with \"alphas\" and \"a\" to compute the context vector to be given to the next (post-attention) LSTM-cell (≈ 1 line)\n",
    "    context = dotor([alphas, a])\n",
    "    ### END CODE HERE ###\n",
    "    \n",
    "    return context"
   ]
  },
  {
   "cell_type": "markdown",
   "metadata": {},
   "source": [
    "You will be able to check the expected output of `one_step_attention()` after you've coded the `model()` function."
   ]
  },
  {
   "cell_type": "markdown",
   "metadata": {},
   "source": [
    "**Exercise**: Implement `model()` as explained in figure 2 and the text above. Again, we have defined global layers that will share weights to be used in `model()`."
   ]
  },
  {
   "cell_type": "code",
   "execution_count": 8,
   "metadata": {},
   "outputs": [],
   "source": [
    "n_a = 32\n",
    "n_s = 64\n",
    "post_activation_LSTM_cell = LSTM(n_s, return_state = True)\n",
    "output_layer = Dense(len(machine_vocab), activation=softmax)"
   ]
  },
  {
   "cell_type": "markdown",
   "metadata": {},
   "source": [
    "Now you can use these layers $T_y$ times in a `for` loop to generate the outputs, and their parameters will not be reinitialized. You will have to carry out the following steps: \n",
    "\n",
    "1. Propagate the input into a [Bidirectional](https://keras.io/layers/wrappers/#bidirectional) [LSTM](https://keras.io/layers/recurrent/#lstm)\n",
    "2. Iterate for $t = 0, \\dots, T_y-1$: \n",
    "    1. Call `one_step_attention()` on $[\\alpha^{<t,1>},\\alpha^{<t,2>}, ..., \\alpha^{<t,T_x>}]$ and $s^{<t-1>}$ to get the context vector $context^{<t>}$.\n",
    "    2. Give $context^{<t>}$ to the post-attention LSTM cell. Remember pass in the previous hidden-state $s^{\\langle t-1\\rangle}$ and cell-states $c^{\\langle t-1\\rangle}$ of this LSTM using `initial_state= [previous hidden state, previous cell state]`. Get back the new hidden state $s^{<t>}$ and the new cell state $c^{<t>}$.\n",
    "    3. Apply a softmax layer to $s^{<t>}$, get the output. \n",
    "    4. Save the output by adding it to the list of outputs.\n",
    "\n",
    "3. Create your Keras model instance, it should have three inputs (\"inputs\", $s^{<0>}$ and $c^{<0>}$) and output the list of \"outputs\"."
   ]
  },
  {
   "cell_type": "code",
   "execution_count": 9,
   "metadata": {},
   "outputs": [],
   "source": [
    "# GRADED FUNCTION: model\n",
    "\n",
    "def model(Tx, Ty, n_a, n_s, human_vocab_size, machine_vocab_size):\n",
    "    \"\"\"\n",
    "    Arguments:\n",
    "    Tx -- length of the input sequence\n",
    "    Ty -- length of the output sequence\n",
    "    n_a -- hidden state size of the Bi-LSTM\n",
    "    n_s -- hidden state size of the post-attention LSTM\n",
    "    human_vocab_size -- size of the python dictionary \"human_vocab\"\n",
    "    machine_vocab_size -- size of the python dictionary \"machine_vocab\"\n",
    "\n",
    "    Returns:\n",
    "    model -- Keras model instance\n",
    "    \"\"\"\n",
    "    \n",
    "    # Define the inputs of your model with a shape (Tx,)\n",
    "    # Define s0 and c0, initial hidden state for the decoder LSTM of shape (n_s,)\n",
    "    X = Input(shape=(Tx, human_vocab_size))\n",
    "    s0 = Input(shape=(n_s,), name='s0')\n",
    "    c0 = Input(shape=(n_s,), name='c0')\n",
    "    s = s0\n",
    "    c = c0\n",
    "    \n",
    "    # Initialize empty list of outputs\n",
    "    outputs = []\n",
    "    \n",
    "    ### START CODE HERE ###\n",
    "    \n",
    "    # Step 1: Define your pre-attention Bi-LSTM. Remember to use return_sequences=True. (≈ 1 line)\n",
    "    a = Bidirectional(LSTM(n_a, return_sequences=True))(X)\n",
    "    \n",
    "    # Step 2: Iterate for Ty steps\n",
    "    for t in range(Ty):\n",
    "    \n",
    "        # Step 2.A: Perform one step of the attention mechanism to get back the context vector at step t (≈ 1 line)\n",
    "        context = one_step_attention(a, s)\n",
    "        \n",
    "        # Step 2.B: Apply the post-attention LSTM cell to the \"context\" vector.\n",
    "        # Don't forget to pass: initial_state = [hidden state, cell state] (≈ 1 line)\n",
    "        s, _, c = post_activation_LSTM_cell(context, initial_state = [s,c])\n",
    "        \n",
    "        # Step 2.C: Apply Dense layer to the hidden state output of the post-attention LSTM (≈ 1 line)\n",
    "        out = output_layer(s)\n",
    "        \n",
    "        # Step 2.D: Append \"out\" to the \"outputs\" list (≈ 1 line)\n",
    "        outputs.append(out)\n",
    "    \n",
    "    # Step 3: Create model instance taking three inputs and returning the list of outputs. (≈ 1 line)\n",
    "    model = Model(inputs=[X, s0, c0], outputs=outputs)\n",
    "    \n",
    "    ### END CODE HERE ###\n",
    "    \n",
    "    return model"
   ]
  },
  {
   "cell_type": "markdown",
   "metadata": {},
   "source": [
    "Run the following cell to create your model."
   ]
  },
  {
   "cell_type": "code",
   "execution_count": 10,
   "metadata": {},
   "outputs": [],
   "source": [
    "model = model(Tx, Ty, n_a, n_s, len(human_vocab), len(machine_vocab))"
   ]
  },
  {
   "cell_type": "markdown",
   "metadata": {},
   "source": [
    "Let's get a summary of the model to check if it matches the expected output."
   ]
  },
  {
   "cell_type": "code",
   "execution_count": 11,
   "metadata": {},
   "outputs": [
    {
     "name": "stdout",
     "output_type": "stream",
     "text": [
      "__________________________________________________________________________________________________\n",
      "Layer (type)                    Output Shape         Param #     Connected to                     \n",
      "==================================================================================================\n",
      "input_1 (InputLayer)            (None, 30, 37)       0                                            \n",
      "__________________________________________________________________________________________________\n",
      "s0 (InputLayer)                 (None, 64)           0                                            \n",
      "__________________________________________________________________________________________________\n",
      "bidirectional_1 (Bidirectional) (None, 30, 64)       17920       input_1[0][0]                    \n",
      "__________________________________________________________________________________________________\n",
      "repeat_vector_1 (RepeatVector)  (None, 30, 64)       0           s0[0][0]                         \n",
      "                                                                 lstm_1[0][0]                     \n",
      "                                                                 lstm_1[1][0]                     \n",
      "                                                                 lstm_1[2][0]                     \n",
      "                                                                 lstm_1[3][0]                     \n",
      "                                                                 lstm_1[4][0]                     \n",
      "                                                                 lstm_1[5][0]                     \n",
      "                                                                 lstm_1[6][0]                     \n",
      "                                                                 lstm_1[7][0]                     \n",
      "                                                                 lstm_1[8][0]                     \n",
      "__________________________________________________________________________________________________\n",
      "concatenate_1 (Concatenate)     (None, 30, 128)      0           bidirectional_1[0][0]            \n",
      "                                                                 repeat_vector_1[0][0]            \n",
      "                                                                 bidirectional_1[0][0]            \n",
      "                                                                 repeat_vector_1[1][0]            \n",
      "                                                                 bidirectional_1[0][0]            \n",
      "                                                                 repeat_vector_1[2][0]            \n",
      "                                                                 bidirectional_1[0][0]            \n",
      "                                                                 repeat_vector_1[3][0]            \n",
      "                                                                 bidirectional_1[0][0]            \n",
      "                                                                 repeat_vector_1[4][0]            \n",
      "                                                                 bidirectional_1[0][0]            \n",
      "                                                                 repeat_vector_1[5][0]            \n",
      "                                                                 bidirectional_1[0][0]            \n",
      "                                                                 repeat_vector_1[6][0]            \n",
      "                                                                 bidirectional_1[0][0]            \n",
      "                                                                 repeat_vector_1[7][0]            \n",
      "                                                                 bidirectional_1[0][0]            \n",
      "                                                                 repeat_vector_1[8][0]            \n",
      "                                                                 bidirectional_1[0][0]            \n",
      "                                                                 repeat_vector_1[9][0]            \n",
      "__________________________________________________________________________________________________\n",
      "dense_1 (Dense)                 (None, 30, 10)       1290        concatenate_1[0][0]              \n",
      "                                                                 concatenate_1[1][0]              \n",
      "                                                                 concatenate_1[2][0]              \n",
      "                                                                 concatenate_1[3][0]              \n",
      "                                                                 concatenate_1[4][0]              \n",
      "                                                                 concatenate_1[5][0]              \n",
      "                                                                 concatenate_1[6][0]              \n",
      "                                                                 concatenate_1[7][0]              \n",
      "                                                                 concatenate_1[8][0]              \n",
      "                                                                 concatenate_1[9][0]              \n",
      "__________________________________________________________________________________________________\n",
      "dense_2 (Dense)                 (None, 30, 1)        11          dense_1[0][0]                    \n",
      "                                                                 dense_1[1][0]                    \n",
      "                                                                 dense_1[2][0]                    \n",
      "                                                                 dense_1[3][0]                    \n",
      "                                                                 dense_1[4][0]                    \n",
      "                                                                 dense_1[5][0]                    \n",
      "                                                                 dense_1[6][0]                    \n",
      "                                                                 dense_1[7][0]                    \n",
      "                                                                 dense_1[8][0]                    \n",
      "                                                                 dense_1[9][0]                    \n",
      "__________________________________________________________________________________________________\n",
      "attention_weights (Activation)  (None, 30, 1)        0           dense_2[0][0]                    \n",
      "                                                                 dense_2[1][0]                    \n",
      "                                                                 dense_2[2][0]                    \n",
      "                                                                 dense_2[3][0]                    \n",
      "                                                                 dense_2[4][0]                    \n",
      "                                                                 dense_2[5][0]                    \n",
      "                                                                 dense_2[6][0]                    \n",
      "                                                                 dense_2[7][0]                    \n",
      "                                                                 dense_2[8][0]                    \n",
      "                                                                 dense_2[9][0]                    \n",
      "__________________________________________________________________________________________________\n",
      "dot_1 (Dot)                     (None, 1, 64)        0           attention_weights[0][0]          \n",
      "                                                                 bidirectional_1[0][0]            \n",
      "                                                                 attention_weights[1][0]          \n",
      "                                                                 bidirectional_1[0][0]            \n",
      "                                                                 attention_weights[2][0]          \n",
      "                                                                 bidirectional_1[0][0]            \n",
      "                                                                 attention_weights[3][0]          \n",
      "                                                                 bidirectional_1[0][0]            \n"
     ]
    },
    {
     "name": "stdout",
     "output_type": "stream",
     "text": [
      "                                                                 attention_weights[4][0]          \n",
      "                                                                 bidirectional_1[0][0]            \n",
      "                                                                 attention_weights[5][0]          \n",
      "                                                                 bidirectional_1[0][0]            \n",
      "                                                                 attention_weights[6][0]          \n",
      "                                                                 bidirectional_1[0][0]            \n",
      "                                                                 attention_weights[7][0]          \n",
      "                                                                 bidirectional_1[0][0]            \n",
      "                                                                 attention_weights[8][0]          \n",
      "                                                                 bidirectional_1[0][0]            \n",
      "                                                                 attention_weights[9][0]          \n",
      "                                                                 bidirectional_1[0][0]            \n",
      "__________________________________________________________________________________________________\n",
      "c0 (InputLayer)                 (None, 64)           0                                            \n",
      "__________________________________________________________________________________________________\n",
      "lstm_1 (LSTM)                   [(None, 64), (None,  33024       dot_1[0][0]                      \n",
      "                                                                 s0[0][0]                         \n",
      "                                                                 c0[0][0]                         \n",
      "                                                                 dot_1[1][0]                      \n",
      "                                                                 lstm_1[0][0]                     \n",
      "                                                                 lstm_1[0][2]                     \n",
      "                                                                 dot_1[2][0]                      \n",
      "                                                                 lstm_1[1][0]                     \n",
      "                                                                 lstm_1[1][2]                     \n",
      "                                                                 dot_1[3][0]                      \n",
      "                                                                 lstm_1[2][0]                     \n",
      "                                                                 lstm_1[2][2]                     \n",
      "                                                                 dot_1[4][0]                      \n",
      "                                                                 lstm_1[3][0]                     \n",
      "                                                                 lstm_1[3][2]                     \n",
      "                                                                 dot_1[5][0]                      \n",
      "                                                                 lstm_1[4][0]                     \n",
      "                                                                 lstm_1[4][2]                     \n",
      "                                                                 dot_1[6][0]                      \n",
      "                                                                 lstm_1[5][0]                     \n",
      "                                                                 lstm_1[5][2]                     \n",
      "                                                                 dot_1[7][0]                      \n",
      "                                                                 lstm_1[6][0]                     \n",
      "                                                                 lstm_1[6][2]                     \n",
      "                                                                 dot_1[8][0]                      \n",
      "                                                                 lstm_1[7][0]                     \n",
      "                                                                 lstm_1[7][2]                     \n",
      "                                                                 dot_1[9][0]                      \n",
      "                                                                 lstm_1[8][0]                     \n",
      "                                                                 lstm_1[8][2]                     \n",
      "__________________________________________________________________________________________________\n",
      "dense_3 (Dense)                 (None, 11)           715         lstm_1[0][0]                     \n",
      "                                                                 lstm_1[1][0]                     \n",
      "                                                                 lstm_1[2][0]                     \n",
      "                                                                 lstm_1[3][0]                     \n",
      "                                                                 lstm_1[4][0]                     \n",
      "                                                                 lstm_1[5][0]                     \n",
      "                                                                 lstm_1[6][0]                     \n",
      "                                                                 lstm_1[7][0]                     \n",
      "                                                                 lstm_1[8][0]                     \n",
      "                                                                 lstm_1[9][0]                     \n",
      "==================================================================================================\n",
      "Total params: 52,960\n",
      "Trainable params: 52,960\n",
      "Non-trainable params: 0\n",
      "__________________________________________________________________________________________________\n"
     ]
    }
   ],
   "source": [
    "model.summary()"
   ]
  },
  {
   "cell_type": "markdown",
   "metadata": {},
   "source": [
    "**Expected Output**:\n",
    "\n",
    "Here is the summary you should see\n",
    "<table>\n",
    "    <tr>\n",
    "        <td>\n",
    "            **Total params:**\n",
    "        </td>\n",
    "        <td>\n",
    "         185,484\n",
    "        </td>\n",
    "    </tr>\n",
    "        <tr>\n",
    "        <td>\n",
    "            **Trainable params:**\n",
    "        </td>\n",
    "        <td>\n",
    "         185,484\n",
    "        </td>\n",
    "    </tr>\n",
    "            <tr>\n",
    "        <td>\n",
    "            **Non-trainable params:**\n",
    "        </td>\n",
    "        <td>\n",
    "         0\n",
    "        </td>\n",
    "    </tr>\n",
    "                    <tr>\n",
    "        <td>\n",
    "            **bidirectional_1's output shape **\n",
    "        </td>\n",
    "        <td>\n",
    "         (None, 30, 128)  \n",
    "        </td>\n",
    "    </tr>\n",
    "    <tr>\n",
    "        <td>\n",
    "            **repeat_vector_1's output shape **\n",
    "        </td>\n",
    "        <td>\n",
    "         (None, 30, 128)  \n",
    "        </td>\n",
    "    </tr>\n",
    "                <tr>\n",
    "        <td>\n",
    "            **concatenate_1's output shape **\n",
    "        </td>\n",
    "        <td>\n",
    "         (None, 30, 256) \n",
    "        </td>\n",
    "    </tr>\n",
    "            <tr>\n",
    "        <td>\n",
    "            **attention_weights's output shape **\n",
    "        </td>\n",
    "        <td>\n",
    "         (None, 30, 1)  \n",
    "        </td>\n",
    "    </tr>\n",
    "        <tr>\n",
    "        <td>\n",
    "            **dot_1's output shape **\n",
    "        </td>\n",
    "        <td>\n",
    "         (None, 1, 128) \n",
    "        </td>\n",
    "    </tr>\n",
    "           <tr>\n",
    "        <td>\n",
    "            **dense_2's output shape **\n",
    "        </td>\n",
    "        <td>\n",
    "         (None, 11) \n",
    "        </td>\n",
    "    </tr>\n",
    "</table>\n"
   ]
  },
  {
   "cell_type": "markdown",
   "metadata": {},
   "source": [
    "As usual, after creating your model in Keras, you need to compile it and define what loss, optimizer and metrics your are want to use. Compile your model using `categorical_crossentropy` loss, a custom [Adam](https://keras.io/optimizers/#adam) [optimizer](https://keras.io/optimizers/#usage-of-optimizers) (`learning rate = 0.005`, $\\beta_1 = 0.9$, $\\beta_2 = 0.999$, `decay = 0.01`)  and `['accuracy']` metrics:"
   ]
  },
  {
   "cell_type": "code",
   "execution_count": 12,
   "metadata": {},
   "outputs": [],
   "source": [
    "### START CODE HERE ### (≈2 lines)\n",
    "opt = Adam(lr = 0.005, beta_1=0.9, beta_2=0.999, decay = 0.01)\n",
    "model.compile(loss='categorical_crossentropy', optimizer=opt, metrics=['accuracy'])\n",
    "### END CODE HERE ###"
   ]
  },
  {
   "cell_type": "markdown",
   "metadata": {},
   "source": [
    "The last step is to define all your inputs and outputs to fit the model:\n",
    "- You already have X of shape $(m = 10000, T_x = 30)$ containing the training examples.\n",
    "- You need to create `s0` and `c0` to initialize your `post_activation_LSTM_cell` with 0s.\n",
    "- Given the `model()` you coded, you need the \"outputs\" to be a list of 11 elements of shape (m, T_y). So that: `outputs[i][0], ..., outputs[i][Ty]` represent the true labels (characters) corresponding to the $i^{th}$ training example (`X[i]`). More generally, `outputs[i][j]` is the true label of the $j^{th}$ character in the $i^{th}$ training example."
   ]
  },
  {
   "cell_type": "code",
   "execution_count": 13,
   "metadata": {},
   "outputs": [],
   "source": [
    "s0 = np.zeros((m, n_s))\n",
    "c0 = np.zeros((m, n_s))\n",
    "outputs = list(Yoh.swapaxes(0,1))"
   ]
  },
  {
   "cell_type": "markdown",
   "metadata": {},
   "source": [
    "Let's now fit the model and run it for one epoch."
   ]
  },
  {
   "cell_type": "code",
   "execution_count": 14,
   "metadata": {},
   "outputs": [
    {
     "name": "stdout",
     "output_type": "stream",
     "text": [
      "WARNING:tensorflow:Variable *= will be deprecated. Use variable.assign_mul if you want assignment to the variable value or 'x = x * y' if you want a new python Tensor object.\n",
      "Epoch 1/1\n"
     ]
    },
    {
     "name": "stdout",
     "output_type": "stream",
     "text": [
      " 2700/10000 [=======>......................] - ETA: 12:04 - loss: 23.9737 - dense_3_loss: 2.3996 - dense_3_acc: 0.0000e+00 - dense_3_acc_1: 0.0000e+00 - dense_3_acc_2: 0.0000e+00 - dense_3_acc_3: 0.0800 - dense_3_acc_4: 0.0200 - dense_3_acc_5: 0.0000e+00 - dense_3_acc_6: 0.0700 - dense_3_acc_7: 0.0600 - dense_3_acc_8: 0.0000e+00 - dense_3_acc_9: 0.09 - ETA: 6:06 - loss: 23.7750 - dense_3_loss: 2.4102 - dense_3_acc: 0.0000e+00 - dense_3_acc_1: 0.0000e+00 - dense_3_acc_2: 0.0000e+00 - dense_3_acc_3: 0.0400 - dense_3_acc_4: 0.5100 - dense_3_acc_5: 0.0000e+00 - dense_3_acc_6: 0.0350 - dense_3_acc_7: 0.5300 - dense_3_acc_8: 0.0000e+00 - dense_3_acc_9: 0.0450 - ETA: 4:06 - loss: 23.5710 - dense_3_loss: 2.4260 - dense_3_acc: 0.0000e+00 - dense_3_acc_1: 0.0000e+00 - dense_3_acc_2: 0.0000e+00 - dense_3_acc_3: 0.0267 - dense_3_acc_4: 0.6733 - dense_3_acc_5: 0.0000e+00 - dense_3_acc_6: 0.0233 - dense_3_acc_7: 0.6867 - dense_3_acc_8: 0.0000e+00 - dense_3_acc_9: 0.030 - ETA: 3:06 - loss: 23.3180 - dense_3_loss: 2.4694 - dense_3_acc: 0.0000e+00 - dense_3_acc_1: 0.0000e+00 - dense_3_acc_2: 0.0000e+00 - dense_3_acc_3: 0.0200 - dense_3_acc_4: 0.7550 - dense_3_acc_5: 0.0000e+00 - dense_3_acc_6: 0.0175 - dense_3_acc_7: 0.7650 - dense_3_acc_8: 0.0000e+00 - dense_3_acc_9: 0.022 - ETA: 2:30 - loss: 23.1061 - dense_3_loss: 2.5701 - dense_3_acc: 0.0000e+00 - dense_3_acc_1: 0.0000e+00 - dense_3_acc_2: 0.0000e+00 - dense_3_acc_3: 0.0160 - dense_3_acc_4: 0.8040 - dense_3_acc_5: 0.0000e+00 - dense_3_acc_6: 0.0140 - dense_3_acc_7: 0.8120 - dense_3_acc_8: 0.0000e+00 - dense_3_acc_9: 0.018 - ETA: 2:06 - loss: 22.9118 - dense_3_loss: 2.6880 - dense_3_acc: 0.0000e+00 - dense_3_acc_1: 0.0000e+00 - dense_3_acc_2: 0.0000e+00 - dense_3_acc_3: 0.0133 - dense_3_acc_4: 0.8367 - dense_3_acc_5: 0.0000e+00 - dense_3_acc_6: 0.0117 - dense_3_acc_7: 0.8433 - dense_3_acc_8: 0.0000e+00 - dense_3_acc_9: 0.015 - ETA: 1:49 - loss: 22.7671 - dense_3_loss: 2.7599 - dense_3_acc: 0.0000e+00 - dense_3_acc_1: 0.0000e+00 - dense_3_acc_2: 0.0000e+00 - dense_3_acc_3: 0.0114 - dense_3_acc_4: 0.8600 - dense_3_acc_5: 0.0000e+00 - dense_3_acc_6: 0.0100 - dense_3_acc_7: 0.8657 - dense_3_acc_8: 0.0000e+00 - dense_3_acc_9: 0.012 - ETA: 1:36 - loss: 22.6144 - dense_3_loss: 2.7627 - dense_3_acc: 0.0000e+00 - dense_3_acc_1: 0.0000e+00 - dense_3_acc_2: 0.0000e+00 - dense_3_acc_3: 0.0175 - dense_3_acc_4: 0.7687 - dense_3_acc_5: 0.0900 - dense_3_acc_6: 0.0200 - dense_3_acc_7: 0.7575 - dense_3_acc_8: 0.0425 - dense_3_acc_9: 0.0213        - ETA: 1:26 - loss: 22.5175 - dense_3_loss: 2.7658 - dense_3_acc: 0.0000e+00 - dense_3_acc_1: 0.0478 - dense_3_acc_2: 0.0289 - dense_3_acc_3: 0.0300 - dense_3_acc_4: 0.6833 - dense_3_acc_5: 0.1678 - dense_3_acc_6: 0.0244 - dense_3_acc_7: 0.6733 - dense_3_acc_8: 0.0711 - dense_3_acc_9: 0.0256        - ETA: 1:18 - loss: 22.4197 - dense_3_loss: 2.7663 - dense_3_acc: 0.0000e+00 - dense_3_acc_1: 0.0830 - dense_3_acc_2: 0.0470 - dense_3_acc_3: 0.0360 - dense_3_acc_4: 0.6150 - dense_3_acc_5: 0.2200 - dense_3_acc_6: 0.0320 - dense_3_acc_7: 0.6060 - dense_3_acc_8: 0.1020 - dense_3_acc_9: 0.030 - ETA: 1:12 - loss: 22.3418 - dense_3_loss: 2.7647 - dense_3_acc: 0.0000e+00 - dense_3_acc_1: 0.1109 - dense_3_acc_2: 0.0609 - dense_3_acc_3: 0.0391 - dense_3_acc_4: 0.5591 - dense_3_acc_5: 0.2645 - dense_3_acc_6: 0.0391 - dense_3_acc_7: 0.5509 - dense_3_acc_8: 0.1200 - dense_3_acc_9: 0.033 - ETA: 1:06 - loss: 22.2719 - dense_3_loss: 2.7696 - dense_3_acc: 0.0000e+00 - dense_3_acc_1: 0.1050 - dense_3_acc_2: 0.0558 - dense_3_acc_3: 0.0358 - dense_3_acc_4: 0.5958 - dense_3_acc_5: 0.2425 - dense_3_acc_6: 0.0358 - dense_3_acc_7: 0.5650 - dense_3_acc_8: 0.1250 - dense_3_acc_9: 0.038 - ETA: 1:01 - loss: 22.2123 - dense_3_loss: 2.7772 - dense_3_acc: 0.0000e+00 - dense_3_acc_1: 0.0969 - dense_3_acc_2: 0.0515 - dense_3_acc_3: 0.0331 - dense_3_acc_4: 0.6269 - dense_3_acc_5: 0.2238 - dense_3_acc_6: 0.0331 - dense_3_acc_7: 0.5985 - dense_3_acc_8: 0.1154 - dense_3_acc_9: 0.035 - ETA: 57s - loss: 22.1393 - dense_3_loss: 2.7863 - dense_3_acc: 0.0000e+00 - dense_3_acc_1: 0.0900 - dense_3_acc_2: 0.0479 - dense_3_acc_3: 0.0307 - dense_3_acc_4: 0.6536 - dense_3_acc_5: 0.2079 - dense_3_acc_6: 0.0307 - dense_3_acc_7: 0.6271 - dense_3_acc_8: 0.1071 - dense_3_acc_9: 0.032 - ETA: 54s - loss: 22.0973 - dense_3_loss: 2.7951 - dense_3_acc: 0.0000e+00 - dense_3_acc_1: 0.0840 - dense_3_acc_2: 0.0447 - dense_3_acc_3: 0.0287 - dense_3_acc_4: 0.6767 - dense_3_acc_5: 0.1940 - dense_3_acc_6: 0.0287 - dense_3_acc_7: 0.6520 - dense_3_acc_8: 0.1000 - dense_3_acc_9: 0.03 - ETA: 51s - loss: 22.0525 - dense_3_loss: 2.7992 - dense_3_acc: 0.0000e+00 - dense_3_acc_1: 0.0787 - dense_3_acc_2: 0.0419 - dense_3_acc_3: 0.0269 - dense_3_acc_4: 0.6969 - dense_3_acc_5: 0.1819 - dense_3_acc_6: 0.0269 - dense_3_acc_7: 0.6738 - dense_3_acc_8: 0.0938 - dense_3_acc_9: 0.02 - ETA: 48s - loss: 21.9967 - dense_3_loss: 2.8068 - dense_3_acc: 0.0000e+00 - dense_3_acc_1: 0.0741 - dense_3_acc_2: 0.0394 - dense_3_acc_3: 0.0253 - dense_3_acc_4: 0.7147 - dense_3_acc_5: 0.1712 - dense_3_acc_6: 0.0253 - dense_3_acc_7: 0.6929 - dense_3_acc_8: 0.0882 - dense_3_acc_9: 0.02 - ETA: 45s - loss: 21.9510 - dense_3_loss: 2.8029 - dense_3_acc: 0.0000e+00 - dense_3_acc_1: 0.0872 - dense_3_acc_2: 0.0372 - dense_3_acc_3: 0.0239 - dense_3_acc_4: 0.7306 - dense_3_acc_5: 0.1617 - dense_3_acc_6: 0.0239 - dense_3_acc_7: 0.7100 - dense_3_acc_8: 0.0833 - dense_3_acc_9: 0.02 - ETA: 43s - loss: 21.9057 - dense_3_loss: 2.8031 - dense_3_acc: 0.0000e+00 - dense_3_acc_1: 0.1026 - dense_3_acc_2: 0.0363 - dense_3_acc_3: 0.0226 - dense_3_acc_4: 0.7447 - dense_3_acc_5: 0.1532 - dense_3_acc_6: 0.0226 - dense_3_acc_7: 0.7253 - dense_3_acc_8: 0.0789 - dense_3_acc_9: 0.02 - ETA: 41s - loss: 21.8662 - dense_3_loss: 2.8010 - dense_3_acc: 0.0000e+00 - dense_3_acc_1: 0.1165 - dense_3_acc_2: 0.0435 - dense_3_acc_3: 0.0215 - dense_3_acc_4: 0.7575 - dense_3_acc_5: 0.1455 - dense_3_acc_6: 0.0215 - dense_3_acc_7: 0.7390 - dense_3_acc_8: 0.0750 - dense_3_acc_9: 0.02 - ETA: 39s - loss: 21.8243 - dense_3_loss: 2.7982 - dense_3_acc: 0.0000e+00 - dense_3_acc_1: 0.1262 - dense_3_acc_2: 0.0486 - dense_3_acc_3: 0.0205 - dense_3_acc_4: 0.7690 - dense_3_acc_5: 0.1386 - dense_3_acc_6: 0.0205 - dense_3_acc_7: 0.7514 - dense_3_acc_8: 0.0714 - dense_3_acc_9: 0.02 - ETA: 37s - loss: 21.7815 - dense_3_loss: 2.7951 - dense_3_acc: 0.0000e+00 - dense_3_acc_1: 0.1336 - dense_3_acc_2: 0.0532 - dense_3_acc_3: 0.0236 - dense_3_acc_4: 0.7795 - dense_3_acc_5: 0.1323 - dense_3_acc_6: 0.0195 - dense_3_acc_7: 0.7627 - dense_3_acc_8: 0.0682 - dense_3_acc_9: 0.02 - ETA: 36s - loss: 21.7338 - dense_3_loss: 2.7916 - dense_3_acc: 0.0000e+00 - dense_3_acc_1: 0.1574 - dense_3_acc_2: 0.0574 - dense_3_acc_3: 0.0283 - dense_3_acc_4: 0.7891 - dense_3_acc_5: 0.1265 - dense_3_acc_6: 0.0187 - dense_3_acc_7: 0.7730 - dense_3_acc_8: 0.0652 - dense_3_acc_9: 0.02 - ETA: 34s - loss: 21.6839 - dense_3_loss: 2.7908 - dense_3_acc: 0.0000e+00 - dense_3_acc_1: 0.1846 - dense_3_acc_2: 0.0663 - dense_3_acc_3: 0.0317 - dense_3_acc_4: 0.7979 - dense_3_acc_5: 0.1213 - dense_3_acc_6: 0.0179 - dense_3_acc_7: 0.7825 - dense_3_acc_8: 0.0625 - dense_3_acc_9: 0.01 - ETA: 33s - loss: 21.6396 - dense_3_loss: 2.7878 - dense_3_acc: 0.0000e+00 - dense_3_acc_1: 0.2024 - dense_3_acc_2: 0.0704 - dense_3_acc_3: 0.0352 - dense_3_acc_4: 0.7880 - dense_3_acc_5: 0.1164 - dense_3_acc_6: 0.0172 - dense_3_acc_7: 0.7912 - dense_3_acc_8: 0.0600 - dense_3_acc_9: 0.01 - ETA: 32s - loss: 21.5922 - dense_3_loss: 2.7854 - dense_3_acc: 0.0000e+00 - dense_3_acc_1: 0.2162 - dense_3_acc_2: 0.0800 - dense_3_acc_3: 0.0381 - dense_3_acc_4: 0.7962 - dense_3_acc_5: 0.1119 - dense_3_acc_6: 0.0165 - dense_3_acc_7: 0.7992 - dense_3_acc_8: 0.0577 - dense_3_acc_9: 0.01 - ETA: 30s - loss: 21.5516 - dense_3_loss: 2.7864 - dense_3_acc: 0.0000e+00 - dense_3_acc_1: 0.2307 - dense_3_acc_2: 0.0848 - dense_3_acc_3: 0.0407 - dense_3_acc_4: 0.8037 - dense_3_acc_5: 0.1078 - dense_3_acc_6: 0.0159 - dense_3_acc_7: 0.8067 - dense_3_acc_8: 0.0556 - dense_3_acc_9: 0.0178\b\b\b\b\b\b\b\b\b\b\b\b\b\b\b\b\b\b\b\b\b\b\b\b\b\b\b\b\b\b\b\b\b\b\b\b\b\b\b\b\b\b\b\b\b\b\b\b\b\b\b\b\b\b\b\b\b\b\b\b\b\b\b\b\b\b\b\b\b\b\b\b\b\b\b\b\b\b\b\b\b\b\b\b\b\b\b\b\b\b\b\b\b\b\b\b\b\b\b\b\b\b\b\b\b\b\b\b\b\b\b\b\b\b\b\b\b\b\b\b\b\b\b\b\b\b\b\b\b\b\b\b\b\b\b\b\b\b\b\b\b\b\b\b\b\b\b\b\b\b\b\b\b\b\b\b\b\b\b\b\b\b\b\b\b\b\b\b\b\b\b\b\b\b\b\b\b\b\b\b\b\b\b\b\b\b\b\b\b\b\b\b\b\b\b\b\b\b\b\b\b\b\b\b\b\b\b\b\b\b\b\b\b\b\b\b\b\b\b\b\b\b\b\b\b\b\b\b\b\b\b\b\b\b\b\b\b\b\b\b\b\b\b\b\b\b\b\b\b\b\b\b\b\b\b\b\b\b\b\b\b\b\b\b\b\b\b\b\b\b\b\b\b\b\b\b\b\b\b\b\b\b\b\b\b\b\b\b\b\b\b\b\b\b\b\b\b\b\b\b\b\b\b\b\b\b\b\b\b\b\b\b\b\b\b\b\b\b\b\b\b\b\b\b\b\b\b\b\b\b\b\b\b\b\b\b"
     ]
    },
    {
     "name": "stdout",
     "output_type": "stream",
     "text": [
      " 5600/10000 [===============>..............] - ETA: 29s - loss: 21.5132 - dense_3_loss: 2.7836 - dense_3_acc: 0.0000e+00 - dense_3_acc_1: 0.2432 - dense_3_acc_2: 0.0911 - dense_3_acc_3: 0.0418 - dense_3_acc_4: 0.8107 - dense_3_acc_5: 0.1039 - dense_3_acc_6: 0.0154 - dense_3_acc_7: 0.8136 - dense_3_acc_8: 0.0546 - dense_3_acc_9: 0.01 - ETA: 28s - loss: 21.4705 - dense_3_loss: 2.7759 - dense_3_acc: 0.0000e+00 - dense_3_acc_1: 0.2590 - dense_3_acc_2: 0.0955 - dense_3_acc_3: 0.0428 - dense_3_acc_4: 0.8172 - dense_3_acc_5: 0.1003 - dense_3_acc_6: 0.0148 - dense_3_acc_7: 0.8200 - dense_3_acc_8: 0.0531 - dense_3_acc_9: 0.02 - ETA: 27s - loss: 21.4217 - dense_3_loss: 2.7697 - dense_3_acc: 0.0000e+00 - dense_3_acc_1: 0.2723 - dense_3_acc_2: 0.1003 - dense_3_acc_3: 0.0443 - dense_3_acc_4: 0.8233 - dense_3_acc_5: 0.0970 - dense_3_acc_6: 0.0143 - dense_3_acc_7: 0.8260 - dense_3_acc_8: 0.0513 - dense_3_acc_9: 0.02 - ETA: 26s - loss: 21.3834 - dense_3_loss: 2.7662 - dense_3_acc: 0.0000e+00 - dense_3_acc_1: 0.2819 - dense_3_acc_2: 0.1045 - dense_3_acc_3: 0.0465 - dense_3_acc_4: 0.8290 - dense_3_acc_5: 0.0939 - dense_3_acc_6: 0.0139 - dense_3_acc_7: 0.8316 - dense_3_acc_8: 0.0497 - dense_3_acc_9: 0.02 - ETA: 25s - loss: 21.3284 - dense_3_loss: 2.7631 - dense_3_acc: 0.0000e+00 - dense_3_acc_1: 0.2947 - dense_3_acc_2: 0.1091 - dense_3_acc_3: 0.0500 - dense_3_acc_4: 0.8344 - dense_3_acc_5: 0.0909 - dense_3_acc_6: 0.0134 - dense_3_acc_7: 0.8369 - dense_3_acc_8: 0.0481 - dense_3_acc_9: 0.02 - ETA: 25s - loss: 21.2879 - dense_3_loss: 2.7606 - dense_3_acc: 0.0000e+00 - dense_3_acc_1: 0.3036 - dense_3_acc_2: 0.1130 - dense_3_acc_3: 0.0503 - dense_3_acc_4: 0.8394 - dense_3_acc_5: 0.0882 - dense_3_acc_6: 0.0130 - dense_3_acc_7: 0.8418 - dense_3_acc_8: 0.0561 - dense_3_acc_9: 0.02 - ETA: 24s - loss: 21.2521 - dense_3_loss: 2.7565 - dense_3_acc: 0.0000e+00 - dense_3_acc_1: 0.3118 - dense_3_acc_2: 0.1203 - dense_3_acc_3: 0.0488 - dense_3_acc_4: 0.8441 - dense_3_acc_5: 0.0856 - dense_3_acc_6: 0.0126 - dense_3_acc_7: 0.8294 - dense_3_acc_8: 0.0632 - dense_3_acc_9: 0.02 - ETA: 23s - loss: 21.2122 - dense_3_loss: 2.7555 - dense_3_acc: 0.0000e+00 - dense_3_acc_1: 0.3226 - dense_3_acc_2: 0.1251 - dense_3_acc_3: 0.0474 - dense_3_acc_4: 0.8486 - dense_3_acc_5: 0.0831 - dense_3_acc_6: 0.0123 - dense_3_acc_7: 0.8297 - dense_3_acc_8: 0.0720 - dense_3_acc_9: 0.03 - ETA: 22s - loss: 21.1705 - dense_3_loss: 2.7517 - dense_3_acc: 0.0000e+00 - dense_3_acc_1: 0.3311 - dense_3_acc_2: 0.1294 - dense_3_acc_3: 0.0461 - dense_3_acc_4: 0.8528 - dense_3_acc_5: 0.0808 - dense_3_acc_6: 0.0119 - dense_3_acc_7: 0.8344 - dense_3_acc_8: 0.0711 - dense_3_acc_9: 0.03 - ETA: 22s - loss: 21.1343 - dense_3_loss: 2.7537 - dense_3_acc: 0.0000e+00 - dense_3_acc_1: 0.3403 - dense_3_acc_2: 0.1341 - dense_3_acc_3: 0.0459 - dense_3_acc_4: 0.8568 - dense_3_acc_5: 0.0786 - dense_3_acc_6: 0.0116 - dense_3_acc_7: 0.8389 - dense_3_acc_8: 0.0692 - dense_3_acc_9: 0.03 - ETA: 21s - loss: 21.0895 - dense_3_loss: 2.7498 - dense_3_acc: 0.0000e+00 - dense_3_acc_1: 0.3479 - dense_3_acc_2: 0.1368 - dense_3_acc_3: 0.0458 - dense_3_acc_4: 0.8605 - dense_3_acc_5: 0.0766 - dense_3_acc_6: 0.0113 - dense_3_acc_7: 0.8432 - dense_3_acc_8: 0.0674 - dense_3_acc_9: 0.03 - ETA: 20s - loss: 21.0484 - dense_3_loss: 2.7435 - dense_3_acc: 0.0000e+00 - dense_3_acc_1: 0.3549 - dense_3_acc_2: 0.1390 - dense_3_acc_3: 0.0474 - dense_3_acc_4: 0.8641 - dense_3_acc_5: 0.0746 - dense_3_acc_6: 0.0110 - dense_3_acc_7: 0.8472 - dense_3_acc_8: 0.0723 - dense_3_acc_9: 0.03 - ETA: 20s - loss: 21.0025 - dense_3_loss: 2.7370 - dense_3_acc: 0.0000e+00 - dense_3_acc_1: 0.3617 - dense_3_acc_2: 0.1418 - dense_3_acc_3: 0.0487 - dense_3_acc_4: 0.8675 - dense_3_acc_5: 0.0728 - dense_3_acc_6: 0.0108 - dense_3_acc_7: 0.8482 - dense_3_acc_8: 0.0785 - dense_3_acc_9: 0.04 - ETA: 19s - loss: 20.9562 - dense_3_loss: 2.7342 - dense_3_acc: 0.0000e+00 - dense_3_acc_1: 0.3695 - dense_3_acc_2: 0.1468 - dense_3_acc_3: 0.0498 - dense_3_acc_4: 0.8707 - dense_3_acc_5: 0.0710 - dense_3_acc_6: 0.0105 - dense_3_acc_7: 0.8517 - dense_3_acc_8: 0.0841 - dense_3_acc_9: 0.04 - ETA: 18s - loss: 20.9238 - dense_3_loss: 2.7341 - dense_3_acc: 0.0000e+00 - dense_3_acc_1: 0.3740 - dense_3_acc_2: 0.1519 - dense_3_acc_3: 0.0502 - dense_3_acc_4: 0.8738 - dense_3_acc_5: 0.0693 - dense_3_acc_6: 0.0102 - dense_3_acc_7: 0.8552 - dense_3_acc_8: 0.0829 - dense_3_acc_9: 0.04 - ETA: 18s - loss: 20.8724 - dense_3_loss: 2.7299 - dense_3_acc: 4.6512e-04 - dense_3_acc_1: 0.3816 - dense_3_acc_2: 0.1586 - dense_3_acc_3: 0.0521 - dense_3_acc_4: 0.8767 - dense_3_acc_5: 0.0677 - dense_3_acc_6: 0.0100 - dense_3_acc_7: 0.8586 - dense_3_acc_8: 0.0840 - dense_3_acc_9: 0.05 - ETA: 17s - loss: 20.8305 - dense_3_loss: 2.7292 - dense_3_acc: 0.0077 - dense_3_acc_1: 0.3855 - dense_3_acc_2: 0.1645 - dense_3_acc_3: 0.0534 - dense_3_acc_4: 0.8795 - dense_3_acc_5: 0.0661 - dense_3_acc_6: 0.0098 - dense_3_acc_7: 0.8564 - dense_3_acc_8: 0.0891 - dense_3_acc_9: 0.0532   - ETA: 17s - loss: 20.7802 - dense_3_loss: 2.7275 - dense_3_acc: 0.0224 - dense_3_acc_1: 0.3918 - dense_3_acc_2: 0.1704 - dense_3_acc_3: 0.0542 - dense_3_acc_4: 0.8822 - dense_3_acc_5: 0.0647 - dense_3_acc_6: 0.0098 - dense_3_acc_7: 0.8480 - dense_3_acc_8: 0.0951 - dense_3_acc_9: 0.05 - ETA: 16s - loss: 20.7342 - dense_3_loss: 2.7269 - dense_3_acc: 0.0350 - dense_3_acc_1: 0.3963 - dense_3_acc_2: 0.1750 - dense_3_acc_3: 0.0563 - dense_3_acc_4: 0.8848 - dense_3_acc_5: 0.0633 - dense_3_acc_6: 0.0096 - dense_3_acc_7: 0.8474 - dense_3_acc_8: 0.1004 - dense_3_acc_9: 0.05 - ETA: 16s - loss: 20.6848 - dense_3_loss: 2.7260 - dense_3_acc: 0.0479 - dense_3_acc_1: 0.4019 - dense_3_acc_2: 0.1789 - dense_3_acc_3: 0.0587 - dense_3_acc_4: 0.8872 - dense_3_acc_5: 0.0619 - dense_3_acc_6: 0.0094 - dense_3_acc_7: 0.8496 - dense_3_acc_8: 0.1032 - dense_3_acc_9: 0.05 - ETA: 15s - loss: 20.6349 - dense_3_loss: 2.7224 - dense_3_acc: 0.0606 - dense_3_acc_1: 0.4096 - dense_3_acc_2: 0.1840 - dense_3_acc_3: 0.0602 - dense_3_acc_4: 0.8896 - dense_3_acc_5: 0.0606 - dense_3_acc_6: 0.0092 - dense_3_acc_7: 0.8465 - dense_3_acc_8: 0.1052 - dense_3_acc_9: 0.05 - ETA: 15s - loss: 20.5942 - dense_3_loss: 2.7195 - dense_3_acc: 0.0714 - dense_3_acc_1: 0.4157 - dense_3_acc_2: 0.1886 - dense_3_acc_3: 0.0614 - dense_3_acc_4: 0.8918 - dense_3_acc_5: 0.0594 - dense_3_acc_6: 0.0090 - dense_3_acc_7: 0.8414 - dense_3_acc_8: 0.1088 - dense_3_acc_9: 0.06 - ETA: 14s - loss: 20.5465 - dense_3_loss: 2.7175 - dense_3_acc: 0.0822 - dense_3_acc_1: 0.4212 - dense_3_acc_2: 0.1930 - dense_3_acc_3: 0.0632 - dense_3_acc_4: 0.8940 - dense_3_acc_5: 0.0582 - dense_3_acc_6: 0.0088 - dense_3_acc_7: 0.8360 - dense_3_acc_8: 0.1146 - dense_3_acc_9: 0.06 - ETA: 14s - loss: 20.5017 - dense_3_loss: 2.7135 - dense_3_acc: 0.0935 - dense_3_acc_1: 0.4280 - dense_3_acc_2: 0.1949 - dense_3_acc_3: 0.0637 - dense_3_acc_4: 0.8961 - dense_3_acc_5: 0.0571 - dense_3_acc_6: 0.0086 - dense_3_acc_7: 0.8333 - dense_3_acc_8: 0.1190 - dense_3_acc_9: 0.06 - ETA: 14s - loss: 20.4510 - dense_3_loss: 2.7107 - dense_3_acc: 0.1052 - dense_3_acc_1: 0.4367 - dense_3_acc_2: 0.1977 - dense_3_acc_3: 0.0638 - dense_3_acc_4: 0.8981 - dense_3_acc_5: 0.0560 - dense_3_acc_6: 0.0085 - dense_3_acc_7: 0.8363 - dense_3_acc_8: 0.1221 - dense_3_acc_9: 0.06 - ETA: 13s - loss: 20.4050 - dense_3_loss: 2.7092 - dense_3_acc: 0.1149 - dense_3_acc_1: 0.4428 - dense_3_acc_2: 0.2006 - dense_3_acc_3: 0.0634 - dense_3_acc_4: 0.9000 - dense_3_acc_5: 0.0549 - dense_3_acc_6: 0.0083 - dense_3_acc_7: 0.8366 - dense_3_acc_8: 0.1266 - dense_3_acc_9: 0.06 - ETA: 13s - loss: 20.3549 - dense_3_loss: 2.7085 - dense_3_acc: 0.1239 - dense_3_acc_1: 0.4511 - dense_3_acc_2: 0.2033 - dense_3_acc_3: 0.0633 - dense_3_acc_4: 0.9019 - dense_3_acc_5: 0.0539 - dense_3_acc_6: 0.0081 - dense_3_acc_7: 0.8298 - dense_3_acc_8: 0.1319 - dense_3_acc_9: 0.06 - ETA: 12s - loss: 20.3055 - dense_3_loss: 2.7059 - dense_3_acc: 0.1320 - dense_3_acc_1: 0.4585 - dense_3_acc_2: 0.2082 - dense_3_acc_3: 0.0638 - dense_3_acc_4: 0.9036 - dense_3_acc_5: 0.0529 - dense_3_acc_6: 0.0080 - dense_3_acc_7: 0.8302 - dense_3_acc_8: 0.1355 - dense_3_acc_9: 0.06 - ETA: 12s - loss: 20.2615 - dense_3_loss: 2.7054 - dense_3_acc: 0.1386 - dense_3_acc_1: 0.4654 - dense_3_acc_2: 0.2125 - dense_3_acc_3: 0.0652 - dense_3_acc_4: 0.9054 - dense_3_acc_5: 0.0520 - dense_3_acc_6: 0.0079 - dense_3_acc_7: 0.8330 - dense_3_acc_8: 0.1375 - dense_3_acc_9: 0.0668"
     ]
    },
    {
     "name": "stdout",
     "output_type": "stream",
     "text": [
      " 8500/10000 [========================>.....] - ETA: 12s - loss: 20.2083 - dense_3_loss: 2.7009 - dense_3_acc: 0.1477 - dense_3_acc_1: 0.4735 - dense_3_acc_2: 0.2160 - dense_3_acc_3: 0.0658 - dense_3_acc_4: 0.9060 - dense_3_acc_5: 0.0511 - dense_3_acc_6: 0.0077 - dense_3_acc_7: 0.8347 - dense_3_acc_8: 0.1407 - dense_3_acc_9: 0.06 - ETA: 11s - loss: 20.1591 - dense_3_loss: 2.6988 - dense_3_acc: 0.1566 - dense_3_acc_1: 0.4797 - dense_3_acc_2: 0.2178 - dense_3_acc_3: 0.0674 - dense_3_acc_4: 0.9076 - dense_3_acc_5: 0.0502 - dense_3_acc_6: 0.0076 - dense_3_acc_7: 0.8350 - dense_3_acc_8: 0.1448 - dense_3_acc_9: 0.06 - ETA: 11s - loss: 20.1090 - dense_3_loss: 2.6952 - dense_3_acc: 0.1641 - dense_3_acc_1: 0.4859 - dense_3_acc_2: 0.2200 - dense_3_acc_3: 0.0675 - dense_3_acc_4: 0.9092 - dense_3_acc_5: 0.0493 - dense_3_acc_6: 0.0075 - dense_3_acc_7: 0.8373 - dense_3_acc_8: 0.1480 - dense_3_acc_9: 0.06 - ETA: 10s - loss: 20.0552 - dense_3_loss: 2.6945 - dense_3_acc: 0.1730 - dense_3_acc_1: 0.4938 - dense_3_acc_2: 0.2232 - dense_3_acc_3: 0.0675 - dense_3_acc_4: 0.9107 - dense_3_acc_5: 0.0485 - dense_3_acc_6: 0.0073 - dense_3_acc_7: 0.8400 - dense_3_acc_8: 0.1483 - dense_3_acc_9: 0.07 - ETA: 10s - loss: 20.0056 - dense_3_loss: 2.6939 - dense_3_acc: 0.1803 - dense_3_acc_1: 0.4992 - dense_3_acc_2: 0.2257 - dense_3_acc_3: 0.0675 - dense_3_acc_4: 0.9108 - dense_3_acc_5: 0.0477 - dense_3_acc_6: 0.0072 - dense_3_acc_7: 0.8426 - dense_3_acc_8: 0.1475 - dense_3_acc_9: 0.07 - ETA: 10s - loss: 19.9478 - dense_3_loss: 2.6903 - dense_3_acc: 0.1882 - dense_3_acc_1: 0.5053 - dense_3_acc_2: 0.2297 - dense_3_acc_3: 0.0681 - dense_3_acc_4: 0.9092 - dense_3_acc_5: 0.0479 - dense_3_acc_6: 0.0071 - dense_3_acc_7: 0.8418 - dense_3_acc_8: 0.1521 - dense_3_acc_9: 0.07 - ETA: 9s - loss: 19.8926 - dense_3_loss: 2.6854 - dense_3_acc: 0.1963 - dense_3_acc_1: 0.5124 - dense_3_acc_2: 0.2311 - dense_3_acc_3: 0.0694 - dense_3_acc_4: 0.9059 - dense_3_acc_5: 0.0524 - dense_3_acc_6: 0.0078 - dense_3_acc_7: 0.8317 - dense_3_acc_8: 0.1559 - dense_3_acc_9: 0.0748 - ETA: 9s - loss: 19.8361 - dense_3_loss: 2.6821 - dense_3_acc: 0.2036 - dense_3_acc_1: 0.5191 - dense_3_acc_2: 0.2344 - dense_3_acc_3: 0.0695 - dense_3_acc_4: 0.9023 - dense_3_acc_5: 0.0552 - dense_3_acc_6: 0.0081 - dense_3_acc_7: 0.8300 - dense_3_acc_8: 0.1595 - dense_3_acc_9: 0.074 - ETA: 9s - loss: 19.7834 - dense_3_loss: 2.6816 - dense_3_acc: 0.2108 - dense_3_acc_1: 0.5243 - dense_3_acc_2: 0.2366 - dense_3_acc_3: 0.0703 - dense_3_acc_4: 0.9017 - dense_3_acc_5: 0.0546 - dense_3_acc_6: 0.0080 - dense_3_acc_7: 0.8326 - dense_3_acc_8: 0.1595 - dense_3_acc_9: 0.074 - ETA: 8s - loss: 19.7289 - dense_3_loss: 2.6791 - dense_3_acc: 0.2177 - dense_3_acc_1: 0.5306 - dense_3_acc_2: 0.2394 - dense_3_acc_3: 0.0703 - dense_3_acc_4: 0.9011 - dense_3_acc_5: 0.0538 - dense_3_acc_6: 0.0079 - dense_3_acc_7: 0.8352 - dense_3_acc_8: 0.1600 - dense_3_acc_9: 0.075 - ETA: 8s - loss: 19.6727 - dense_3_loss: 2.6746 - dense_3_acc: 0.2237 - dense_3_acc_1: 0.5366 - dense_3_acc_2: 0.2412 - dense_3_acc_3: 0.0696 - dense_3_acc_4: 0.9018 - dense_3_acc_5: 0.0530 - dense_3_acc_6: 0.0078 - dense_3_acc_7: 0.8373 - dense_3_acc_8: 0.1637 - dense_3_acc_9: 0.076 - ETA: 8s - loss: 19.6157 - dense_3_loss: 2.6712 - dense_3_acc: 0.2299 - dense_3_acc_1: 0.5421 - dense_3_acc_2: 0.2435 - dense_3_acc_3: 0.0704 - dense_3_acc_4: 0.9018 - dense_3_acc_5: 0.0522 - dense_3_acc_6: 0.0076 - dense_3_acc_7: 0.8397 - dense_3_acc_8: 0.1650 - dense_3_acc_9: 0.077 - ETA: 8s - loss: 19.5603 - dense_3_loss: 2.6667 - dense_3_acc: 0.2349 - dense_3_acc_1: 0.5471 - dense_3_acc_2: 0.2474 - dense_3_acc_3: 0.0712 - dense_3_acc_4: 0.9025 - dense_3_acc_5: 0.0516 - dense_3_acc_6: 0.0078 - dense_3_acc_7: 0.8420 - dense_3_acc_8: 0.1652 - dense_3_acc_9: 0.078 - ETA: 7s - loss: 19.5066 - dense_3_loss: 2.6643 - dense_3_acc: 0.2397 - dense_3_acc_1: 0.5524 - dense_3_acc_2: 0.2500 - dense_3_acc_3: 0.0710 - dense_3_acc_4: 0.9039 - dense_3_acc_5: 0.0526 - dense_3_acc_6: 0.0086 - dense_3_acc_7: 0.8430 - dense_3_acc_8: 0.1679 - dense_3_acc_9: 0.078 - ETA: 7s - loss: 19.4502 - dense_3_loss: 2.6625 - dense_3_acc: 0.2461 - dense_3_acc_1: 0.5585 - dense_3_acc_2: 0.2525 - dense_3_acc_3: 0.0710 - dense_3_acc_4: 0.9052 - dense_3_acc_5: 0.0545 - dense_3_acc_6: 0.0096 - dense_3_acc_7: 0.8441 - dense_3_acc_8: 0.1714 - dense_3_acc_9: 0.078 - ETA: 7s - loss: 19.3941 - dense_3_loss: 2.6590 - dense_3_acc: 0.2519 - dense_3_acc_1: 0.5640 - dense_3_acc_2: 0.2543 - dense_3_acc_3: 0.0706 - dense_3_acc_4: 0.9065 - dense_3_acc_5: 0.0560 - dense_3_acc_6: 0.0099 - dense_3_acc_7: 0.8463 - dense_3_acc_8: 0.1732 - dense_3_acc_9: 0.078 - ETA: 6s - loss: 19.3425 - dense_3_loss: 2.6550 - dense_3_acc: 0.2570 - dense_3_acc_1: 0.5681 - dense_3_acc_2: 0.2553 - dense_3_acc_3: 0.0714 - dense_3_acc_4: 0.9078 - dense_3_acc_5: 0.0581 - dense_3_acc_6: 0.0101 - dense_3_acc_7: 0.8484 - dense_3_acc_8: 0.1745 - dense_3_acc_9: 0.080 - ETA: 6s - loss: 19.2856 - dense_3_loss: 2.6500 - dense_3_acc: 0.2636 - dense_3_acc_1: 0.5734 - dense_3_acc_2: 0.2582 - dense_3_acc_3: 0.0709 - dense_3_acc_4: 0.9091 - dense_3_acc_5: 0.0627 - dense_3_acc_6: 0.0100 - dense_3_acc_7: 0.8501 - dense_3_acc_8: 0.1774 - dense_3_acc_9: 0.081 - ETA: 6s - loss: 19.2306 - dense_3_loss: 2.6464 - dense_3_acc: 0.2713 - dense_3_acc_1: 0.5777 - dense_3_acc_2: 0.2593 - dense_3_acc_3: 0.0717 - dense_3_acc_4: 0.9103 - dense_3_acc_5: 0.0693 - dense_3_acc_6: 0.0101 - dense_3_acc_7: 0.8521 - dense_3_acc_8: 0.1788 - dense_3_acc_9: 0.082 - ETA: 5s - loss: 19.1724 - dense_3_loss: 2.6438 - dense_3_acc: 0.2787 - dense_3_acc_1: 0.5825 - dense_3_acc_2: 0.2614 - dense_3_acc_3: 0.0724 - dense_3_acc_4: 0.9114 - dense_3_acc_5: 0.0776 - dense_3_acc_6: 0.0111 - dense_3_acc_7: 0.8541 - dense_3_acc_8: 0.1788 - dense_3_acc_9: 0.083 - ETA: 5s - loss: 19.1155 - dense_3_loss: 2.6404 - dense_3_acc: 0.2852 - dense_3_acc_1: 0.5864 - dense_3_acc_2: 0.2642 - dense_3_acc_3: 0.0723 - dense_3_acc_4: 0.9126 - dense_3_acc_5: 0.0858 - dense_3_acc_6: 0.0112 - dense_3_acc_7: 0.8560 - dense_3_acc_8: 0.1806 - dense_3_acc_9: 0.084 - ETA: 5s - loss: 19.0638 - dense_3_loss: 2.6361 - dense_3_acc: 0.2897 - dense_3_acc_1: 0.5896 - dense_3_acc_2: 0.2647 - dense_3_acc_3: 0.0722 - dense_3_acc_4: 0.9137 - dense_3_acc_5: 0.0942 - dense_3_acc_6: 0.0117 - dense_3_acc_7: 0.8577 - dense_3_acc_8: 0.1826 - dense_3_acc_9: 0.085 - ETA: 5s - loss: 19.0037 - dense_3_loss: 2.6322 - dense_3_acc: 0.2958 - dense_3_acc_1: 0.5941 - dense_3_acc_2: 0.2665 - dense_3_acc_3: 0.0725 - dense_3_acc_4: 0.9148 - dense_3_acc_5: 0.1032 - dense_3_acc_6: 0.0124 - dense_3_acc_7: 0.8595 - dense_3_acc_8: 0.1837 - dense_3_acc_9: 0.086 - ETA: 4s - loss: 18.9468 - dense_3_loss: 2.6289 - dense_3_acc: 0.3025 - dense_3_acc_1: 0.5985 - dense_3_acc_2: 0.2687 - dense_3_acc_3: 0.0725 - dense_3_acc_4: 0.9159 - dense_3_acc_5: 0.1101 - dense_3_acc_6: 0.0127 - dense_3_acc_7: 0.8613 - dense_3_acc_8: 0.1854 - dense_3_acc_9: 0.086 - ETA: 4s - loss: 18.8907 - dense_3_loss: 2.6260 - dense_3_acc: 0.3101 - dense_3_acc_1: 0.6031 - dense_3_acc_2: 0.2690 - dense_3_acc_3: 0.0727 - dense_3_acc_4: 0.9169 - dense_3_acc_5: 0.1170 - dense_3_acc_6: 0.0132 - dense_3_acc_7: 0.8630 - dense_3_acc_8: 0.1878 - dense_3_acc_9: 0.086 - ETA: 4s - loss: 18.8264 - dense_3_loss: 2.6216 - dense_3_acc: 0.3171 - dense_3_acc_1: 0.6074 - dense_3_acc_2: 0.2704 - dense_3_acc_3: 0.0737 - dense_3_acc_4: 0.9179 - dense_3_acc_5: 0.1254 - dense_3_acc_6: 0.0139 - dense_3_acc_7: 0.8646 - dense_3_acc_8: 0.1895 - dense_3_acc_9: 0.087 - ETA: 4s - loss: 18.7661 - dense_3_loss: 2.6184 - dense_3_acc: 0.3231 - dense_3_acc_1: 0.6116 - dense_3_acc_2: 0.2713 - dense_3_acc_3: 0.0740 - dense_3_acc_4: 0.9189 - dense_3_acc_5: 0.1346 - dense_3_acc_6: 0.0143 - dense_3_acc_7: 0.8663 - dense_3_acc_8: 0.1914 - dense_3_acc_9: 0.087 - ETA: 3s - loss: 18.7028 - dense_3_loss: 2.6143 - dense_3_acc: 0.3283 - dense_3_acc_1: 0.6150 - dense_3_acc_2: 0.2729 - dense_3_acc_3: 0.0742 - dense_3_acc_4: 0.9199 - dense_3_acc_5: 0.1429 - dense_3_acc_6: 0.0148 - dense_3_acc_7: 0.8679 - dense_3_acc_8: 0.1931 - dense_3_acc_9: 0.088 - ETA: 3s - loss: 18.6392 - dense_3_loss: 2.6118 - dense_3_acc: 0.3345 - dense_3_acc_1: 0.6187 - dense_3_acc_2: 0.2739 - dense_3_acc_3: 0.0748 - dense_3_acc_4: 0.9208 - dense_3_acc_5: 0.1508 - dense_3_acc_6: 0.0155 - dense_3_acc_7: 0.8694 - dense_3_acc_8: 0.1951 - dense_3_acc_9: 0.0882"
     ]
    },
    {
     "name": "stdout",
     "output_type": "stream",
     "text": [
      "10000/10000 [==============================] - ETA: 3s - loss: 18.5751 - dense_3_loss: 2.6083 - dense_3_acc: 0.3417 - dense_3_acc_1: 0.6227 - dense_3_acc_2: 0.2760 - dense_3_acc_3: 0.0755 - dense_3_acc_4: 0.9217 - dense_3_acc_5: 0.1591 - dense_3_acc_6: 0.0167 - dense_3_acc_7: 0.8709 - dense_3_acc_8: 0.1966 - dense_3_acc_9: 0.088 - ETA: 3s - loss: 18.5115 - dense_3_loss: 2.6057 - dense_3_acc: 0.3487 - dense_3_acc_1: 0.6264 - dense_3_acc_2: 0.2789 - dense_3_acc_3: 0.0755 - dense_3_acc_4: 0.9226 - dense_3_acc_5: 0.1674 - dense_3_acc_6: 0.0171 - dense_3_acc_7: 0.8724 - dense_3_acc_8: 0.1976 - dense_3_acc_9: 0.088 - ETA: 2s - loss: 18.4414 - dense_3_loss: 2.6020 - dense_3_acc: 0.3553 - dense_3_acc_1: 0.6302 - dense_3_acc_2: 0.2803 - dense_3_acc_3: 0.0758 - dense_3_acc_4: 0.9235 - dense_3_acc_5: 0.1751 - dense_3_acc_6: 0.0180 - dense_3_acc_7: 0.8739 - dense_3_acc_8: 0.1999 - dense_3_acc_9: 0.088 - ETA: 2s - loss: 18.3692 - dense_3_loss: 2.5985 - dense_3_acc: 0.3622 - dense_3_acc_1: 0.6342 - dense_3_acc_2: 0.2831 - dense_3_acc_3: 0.0761 - dense_3_acc_4: 0.9244 - dense_3_acc_5: 0.1829 - dense_3_acc_6: 0.0192 - dense_3_acc_7: 0.8753 - dense_3_acc_8: 0.2020 - dense_3_acc_9: 0.090 - ETA: 2s - loss: 18.2970 - dense_3_loss: 2.5939 - dense_3_acc: 0.3688 - dense_3_acc_1: 0.6378 - dense_3_acc_2: 0.2847 - dense_3_acc_3: 0.0764 - dense_3_acc_4: 0.9252 - dense_3_acc_5: 0.1910 - dense_3_acc_6: 0.0204 - dense_3_acc_7: 0.8767 - dense_3_acc_8: 0.2043 - dense_3_acc_9: 0.091 - ETA: 2s - loss: 18.2246 - dense_3_loss: 2.5896 - dense_3_acc: 0.3751 - dense_3_acc_1: 0.6412 - dense_3_acc_2: 0.2865 - dense_3_acc_3: 0.0775 - dense_3_acc_4: 0.9260 - dense_3_acc_5: 0.1985 - dense_3_acc_6: 0.0209 - dense_3_acc_7: 0.8780 - dense_3_acc_8: 0.2075 - dense_3_acc_9: 0.092 - ETA: 1s - loss: 18.1542 - dense_3_loss: 2.5870 - dense_3_acc: 0.3812 - dense_3_acc_1: 0.6447 - dense_3_acc_2: 0.2877 - dense_3_acc_3: 0.0782 - dense_3_acc_4: 0.9268 - dense_3_acc_5: 0.2059 - dense_3_acc_6: 0.0216 - dense_3_acc_7: 0.8793 - dense_3_acc_8: 0.2095 - dense_3_acc_9: 0.092 - ETA: 1s - loss: 18.0821 - dense_3_loss: 2.5829 - dense_3_acc: 0.3874 - dense_3_acc_1: 0.6481 - dense_3_acc_2: 0.2888 - dense_3_acc_3: 0.0782 - dense_3_acc_4: 0.9276 - dense_3_acc_5: 0.2131 - dense_3_acc_6: 0.0225 - dense_3_acc_7: 0.8806 - dense_3_acc_8: 0.2119 - dense_3_acc_9: 0.093 - ETA: 1s - loss: 18.0120 - dense_3_loss: 2.5799 - dense_3_acc: 0.3932 - dense_3_acc_1: 0.6514 - dense_3_acc_2: 0.2904 - dense_3_acc_3: 0.0790 - dense_3_acc_4: 0.9284 - dense_3_acc_5: 0.2198 - dense_3_acc_6: 0.0232 - dense_3_acc_7: 0.8819 - dense_3_acc_8: 0.2146 - dense_3_acc_9: 0.093 - ETA: 1s - loss: 17.9402 - dense_3_loss: 2.5764 - dense_3_acc: 0.3991 - dense_3_acc_1: 0.6545 - dense_3_acc_2: 0.2924 - dense_3_acc_3: 0.0798 - dense_3_acc_4: 0.9292 - dense_3_acc_5: 0.2268 - dense_3_acc_6: 0.0238 - dense_3_acc_7: 0.8832 - dense_3_acc_8: 0.2167 - dense_3_acc_9: 0.094 - ETA: 0s - loss: 17.8681 - dense_3_loss: 2.5727 - dense_3_acc: 0.4047 - dense_3_acc_1: 0.6574 - dense_3_acc_2: 0.2934 - dense_3_acc_3: 0.0812 - dense_3_acc_4: 0.9299 - dense_3_acc_5: 0.2343 - dense_3_acc_6: 0.0248 - dense_3_acc_7: 0.8844 - dense_3_acc_8: 0.2192 - dense_3_acc_9: 0.095 - ETA: 0s - loss: 17.7972 - dense_3_loss: 2.5692 - dense_3_acc: 0.4102 - dense_3_acc_1: 0.6606 - dense_3_acc_2: 0.2960 - dense_3_acc_3: 0.0815 - dense_3_acc_4: 0.9306 - dense_3_acc_5: 0.2411 - dense_3_acc_6: 0.0258 - dense_3_acc_7: 0.8856 - dense_3_acc_8: 0.2203 - dense_3_acc_9: 0.095 - ETA: 0s - loss: 17.7264 - dense_3_loss: 2.5660 - dense_3_acc: 0.4159 - dense_3_acc_1: 0.6638 - dense_3_acc_2: 0.2970 - dense_3_acc_3: 0.0820 - dense_3_acc_4: 0.9313 - dense_3_acc_5: 0.2476 - dense_3_acc_6: 0.0269 - dense_3_acc_7: 0.8867 - dense_3_acc_8: 0.2222 - dense_3_acc_9: 0.096 - ETA: 0s - loss: 17.6556 - dense_3_loss: 2.5637 - dense_3_acc: 0.4215 - dense_3_acc_1: 0.6669 - dense_3_acc_2: 0.2978 - dense_3_acc_3: 0.0826 - dense_3_acc_4: 0.9320 - dense_3_acc_5: 0.2540 - dense_3_acc_6: 0.0285 - dense_3_acc_7: 0.8879 - dense_3_acc_8: 0.2243 - dense_3_acc_9: 0.097 - 22s 2ms/step - loss: 17.5858 - dense_3_loss: 2.5604 - dense_3_acc: 0.4270 - dense_3_acc_1: 0.6700 - dense_3_acc_2: 0.2995 - dense_3_acc_3: 0.0832 - dense_3_acc_4: 0.9327 - dense_3_acc_5: 0.2606 - dense_3_acc_6: 0.0304 - dense_3_acc_7: 0.8890 - dense_3_acc_8: 0.2263 - dense_3_acc_9: 0.0978\n"
     ]
    },
    {
     "data": {
      "text/plain": [
       "<keras.callbacks.History at 0x1d77d7966a0>"
      ]
     },
     "execution_count": 14,
     "metadata": {},
     "output_type": "execute_result"
    }
   ],
   "source": [
    "model.fit([Xoh, s0, c0], outputs, epochs=1, batch_size=100)"
   ]
  },
  {
   "cell_type": "markdown",
   "metadata": {},
   "source": [
    "While training you can see the loss as well as the accuracy on each of the 10 positions of the output. The table below gives you an example of what the accuracies could be if the batch had 2 examples: \n",
    "\n",
    "<img src=\"images/table.png\" style=\"width:700;height:200px;\"> <br>\n",
    "<caption><center>Thus, `dense_2_acc_8: 0.89` means that you are predicting the 7th character of the output correctly 89% of the time in the current batch of data. </center></caption>\n",
    "\n",
    "\n",
    "We have run this model for longer, and saved the weights. Run the next cell to load our weights. (By training a model for several minutes, you should be able to obtain a model of similar accuracy, but loading our model will save you time.) "
   ]
  },
  {
   "cell_type": "code",
   "execution_count": 15,
   "metadata": {},
   "outputs": [],
   "source": [
    "model.load_weights('models/model.h5')"
   ]
  },
  {
   "cell_type": "markdown",
   "metadata": {},
   "source": [
    "You can now see the results on new examples."
   ]
  },
  {
   "cell_type": "code",
   "execution_count": 16,
   "metadata": {},
   "outputs": [
    {
     "name": "stdout",
     "output_type": "stream",
     "text": [
      "source: 3 May 1979\n",
      "output: 1979-05-03\n",
      "source: 5 April 09\n",
      "output: 2009-05-05\n",
      "source: 21th of August 2016\n",
      "output: 2016-08-21\n",
      "source: Tue 10 Jul 2007\n",
      "output: 2007-07-10\n",
      "source: Saturday May 9 2018\n",
      "output: 2018-05-09\n",
      "source: March 3 2001\n",
      "output: 2001-03-03\n",
      "source: March 3rd 2001\n",
      "output: 2001-03-03\n",
      "source: 1 March 2001\n",
      "output: 2001-03-01\n"
     ]
    }
   ],
   "source": [
    "# EXAMPLES = ['3 May 1979', '5 April 09', '21th of August 2016', 'Tue 10 Jul 2007', 'Saturday May 9 2018', 'March 3 2001', 'March 3rd 2001', '1 March 2001']\n",
    "\n",
    "# for example in EXAMPLES:\n",
    "#     source = string_to_int(example, Tx, human_vocab)\n",
    "#     source = np.array(list(map(lambda x: to_categorical(x, num_classes=len(human_vocab)), source))).swapaxes(0,1)\n",
    "#     prediction = model.predict([source, s0, c0])\n",
    "#     prediction = np.argmax(prediction, axis = -1)\n",
    "#     output = [inv_machine_vocab[int(i)] for i in prediction]\n",
    "\n",
    "#     print(\"source:\", example)\n",
    "#     print(\"output:\", ''.join(output))\n",
    "\n",
    "EXAMPLES = ['3 May 1979', '5 April 09', '21th of August 2016', 'Tue 10 Jul 2007', 'Saturday May 9 2018', 'March 3 2001', 'March 3rd 2001', '1 March 2001']\n",
    "for example in EXAMPLES:\n",
    "    \n",
    "    source = string_to_int(example, Tx, human_vocab)\n",
    "    # source = np.array(list(map(lambda x: to_categorical(x, num_classes=len(human_vocab)), source))).swapaxes(0,1)\n",
    "    # prediction = model.predict([source, s0, c0])\n",
    "    source = np.array(list(map(lambda x: to_categorical(x, num_classes=len(human_vocab)), source))) #不能变换  数据维度 ，  \n",
    "    source = np.expand_dims(source,axis=0) # 在 axis=0的位置 ，增加一个 维度，以适应 输入维度要求\n",
    "    prediction = model.predict([source, s0, c0])\n",
    "    prediction = np.argmax(prediction, axis = -1)\n",
    "    output = [inv_machine_vocab[int(i)] for i in prediction]\n",
    "    \n",
    "    print(\"source:\", example)\n",
    "    print(\"output:\", ''.join(output))"
   ]
  },
  {
   "cell_type": "markdown",
   "metadata": {},
   "source": [
    "You can also change these examples to test with your own examples. The next part will give you a better sense on what the attention mechanism is doing--i.e., what part of the input the network is paying attention to when generating a particular output character. "
   ]
  },
  {
   "cell_type": "markdown",
   "metadata": {},
   "source": [
    "## 3 - Visualizing Attention (Optional / Ungraded)\n",
    "\n",
    "Since the problem has a fixed output length of 10, it is also possible to carry out this task using 10 different softmax units to generate the 10 characters of the output. But one advantage of the attention model is that each part of the output (say the month) knows it needs to depend only on a small part of the input (the characters in the input giving the month). We can  visualize what part of the output is looking at what part of the input.\n",
    "\n",
    "Consider the task of translating \"Saturday 9 May 2018\" to \"2018-05-09\". If we visualize the computed $\\alpha^{\\langle t, t' \\rangle}$ we get this: \n",
    "\n",
    "<img src=\"images/date_attention.png\" style=\"width:600;height:300px;\"> <br>\n",
    "<caption><center> **Figure 8**: Full Attention Map</center></caption>\n",
    "\n",
    "Notice how the output ignores the \"Saturday\" portion of the input. None of the output timesteps are paying much attention to that portion of the input. We see also that 9 has been translated as 09 and May has been correctly translated into 05, with the output paying attention to the parts of the input it needs to to make the translation. The year mostly requires it to pay attention to the input's \"18\" in order to generate \"2018.\" \n",
    "\n"
   ]
  },
  {
   "cell_type": "markdown",
   "metadata": {},
   "source": [
    "### 3.1 - Getting the activations from the network\n",
    "\n",
    "Lets now visualize the attention values in your network. We'll propagate an example through the network, then visualize the values of $\\alpha^{\\langle t, t' \\rangle}$. \n",
    "\n",
    "To figure out where the attention values are located, let's start by printing a summary of the model ."
   ]
  },
  {
   "cell_type": "code",
   "execution_count": 17,
   "metadata": {},
   "outputs": [
    {
     "name": "stdout",
     "output_type": "stream",
     "text": [
      "__________________________________________________________________________________________________\n",
      "Layer (type)                    Output Shape         Param #     Connected to                     \n",
      "==================================================================================================\n",
      "input_1 (InputLayer)            (None, 30, 37)       0                                            \n",
      "__________________________________________________________________________________________________\n",
      "s0 (InputLayer)                 (None, 64)           0                                            \n",
      "__________________________________________________________________________________________________\n",
      "bidirectional_1 (Bidirectional) (None, 30, 64)       17920       input_1[0][0]                    \n",
      "__________________________________________________________________________________________________\n",
      "repeat_vector_1 (RepeatVector)  (None, 30, 64)       0           s0[0][0]                         \n",
      "                                                                 lstm_1[0][0]                     \n",
      "                                                                 lstm_1[1][0]                     \n",
      "                                                                 lstm_1[2][0]                     \n",
      "                                                                 lstm_1[3][0]                     \n",
      "                                                                 lstm_1[4][0]                     \n",
      "                                                                 lstm_1[5][0]                     \n",
      "                                                                 lstm_1[6][0]                     \n",
      "                                                                 lstm_1[7][0]                     \n",
      "                                                                 lstm_1[8][0]                     \n",
      "__________________________________________________________________________________________________\n",
      "concatenate_1 (Concatenate)     (None, 30, 128)      0           bidirectional_1[0][0]            \n",
      "                                                                 repeat_vector_1[0][0]            \n",
      "                                                                 bidirectional_1[0][0]            \n",
      "                                                                 repeat_vector_1[1][0]            \n",
      "                                                                 bidirectional_1[0][0]            \n",
      "                                                                 repeat_vector_1[2][0]            \n",
      "                                                                 bidirectional_1[0][0]            \n",
      "                                                                 repeat_vector_1[3][0]            \n",
      "                                                                 bidirectional_1[0][0]            \n",
      "                                                                 repeat_vector_1[4][0]            \n",
      "                                                                 bidirectional_1[0][0]            \n",
      "                                                                 repeat_vector_1[5][0]            \n",
      "                                                                 bidirectional_1[0][0]            \n",
      "                                                                 repeat_vector_1[6][0]            \n",
      "                                                                 bidirectional_1[0][0]            \n",
      "                                                                 repeat_vector_1[7][0]            \n",
      "                                                                 bidirectional_1[0][0]            \n",
      "                                                                 repeat_vector_1[8][0]            \n",
      "                                                                 bidirectional_1[0][0]            \n",
      "                                                                 repeat_vector_1[9][0]            \n",
      "__________________________________________________________________________________________________\n",
      "dense_1 (Dense)                 (None, 30, 10)       1290        concatenate_1[0][0]              \n",
      "                                                                 concatenate_1[1][0]              \n",
      "                                                                 concatenate_1[2][0]              \n",
      "                                                                 concatenate_1[3][0]              \n",
      "                                                                 concatenate_1[4][0]              \n",
      "                                                                 concatenate_1[5][0]              \n",
      "                                                                 concatenate_1[6][0]              \n",
      "                                                                 concatenate_1[7][0]              \n",
      "                                                                 concatenate_1[8][0]              \n",
      "                                                                 concatenate_1[9][0]              \n",
      "__________________________________________________________________________________________________\n",
      "dense_2 (Dense)                 (None, 30, 1)        11          dense_1[0][0]                    \n",
      "                                                                 dense_1[1][0]                    \n",
      "                                                                 dense_1[2][0]                    \n",
      "                                                                 dense_1[3][0]                    \n",
      "                                                                 dense_1[4][0]                    \n",
      "                                                                 dense_1[5][0]                    \n",
      "                                                                 dense_1[6][0]                    \n",
      "                                                                 dense_1[7][0]                    \n",
      "                                                                 dense_1[8][0]                    \n",
      "                                                                 dense_1[9][0]                    \n",
      "__________________________________________________________________________________________________\n",
      "attention_weights (Activation)  (None, 30, 1)        0           dense_2[0][0]                    \n",
      "                                                                 dense_2[1][0]                    \n",
      "                                                                 dense_2[2][0]                    \n",
      "                                                                 dense_2[3][0]                    \n",
      "                                                                 dense_2[4][0]                    \n",
      "                                                                 dense_2[5][0]                    \n",
      "                                                                 dense_2[6][0]                    \n",
      "                                                                 dense_2[7][0]                    \n",
      "                                                                 dense_2[8][0]                    \n",
      "                                                                 dense_2[9][0]                    \n",
      "__________________________________________________________________________________________________\n",
      "dot_1 (Dot)                     (None, 1, 64)        0           attention_weights[0][0]          \n",
      "                                                                 bidirectional_1[0][0]            \n",
      "                                                                 attention_weights[1][0]          \n",
      "                                                                 bidirectional_1[0][0]            \n",
      "                                                                 attention_weights[2][0]          \n",
      "                                                                 bidirectional_1[0][0]            \n",
      "                                                                 attention_weights[3][0]          \n",
      "                                                                 bidirectional_1[0][0]            \n"
     ]
    },
    {
     "name": "stdout",
     "output_type": "stream",
     "text": [
      "                                                                 attention_weights[4][0]          \n",
      "                                                                 bidirectional_1[0][0]            \n",
      "                                                                 attention_weights[5][0]          \n",
      "                                                                 bidirectional_1[0][0]            \n",
      "                                                                 attention_weights[6][0]          \n",
      "                                                                 bidirectional_1[0][0]            \n",
      "                                                                 attention_weights[7][0]          \n",
      "                                                                 bidirectional_1[0][0]            \n",
      "                                                                 attention_weights[8][0]          \n",
      "                                                                 bidirectional_1[0][0]            \n",
      "                                                                 attention_weights[9][0]          \n",
      "                                                                 bidirectional_1[0][0]            \n",
      "__________________________________________________________________________________________________\n",
      "c0 (InputLayer)                 (None, 64)           0                                            \n",
      "__________________________________________________________________________________________________\n",
      "lstm_1 (LSTM)                   [(None, 64), (None,  33024       dot_1[0][0]                      \n",
      "                                                                 s0[0][0]                         \n",
      "                                                                 c0[0][0]                         \n",
      "                                                                 dot_1[1][0]                      \n",
      "                                                                 lstm_1[0][0]                     \n",
      "                                                                 lstm_1[0][2]                     \n",
      "                                                                 dot_1[2][0]                      \n",
      "                                                                 lstm_1[1][0]                     \n",
      "                                                                 lstm_1[1][2]                     \n",
      "                                                                 dot_1[3][0]                      \n",
      "                                                                 lstm_1[2][0]                     \n",
      "                                                                 lstm_1[2][2]                     \n",
      "                                                                 dot_1[4][0]                      \n",
      "                                                                 lstm_1[3][0]                     \n",
      "                                                                 lstm_1[3][2]                     \n",
      "                                                                 dot_1[5][0]                      \n",
      "                                                                 lstm_1[4][0]                     \n",
      "                                                                 lstm_1[4][2]                     \n",
      "                                                                 dot_1[6][0]                      \n",
      "                                                                 lstm_1[5][0]                     \n",
      "                                                                 lstm_1[5][2]                     \n",
      "                                                                 dot_1[7][0]                      \n",
      "                                                                 lstm_1[6][0]                     \n",
      "                                                                 lstm_1[6][2]                     \n",
      "                                                                 dot_1[8][0]                      \n",
      "                                                                 lstm_1[7][0]                     \n",
      "                                                                 lstm_1[7][2]                     \n",
      "                                                                 dot_1[9][0]                      \n",
      "                                                                 lstm_1[8][0]                     \n",
      "                                                                 lstm_1[8][2]                     \n",
      "__________________________________________________________________________________________________\n",
      "dense_3 (Dense)                 (None, 11)           715         lstm_1[0][0]                     \n",
      "                                                                 lstm_1[1][0]                     \n",
      "                                                                 lstm_1[2][0]                     \n",
      "                                                                 lstm_1[3][0]                     \n",
      "                                                                 lstm_1[4][0]                     \n",
      "                                                                 lstm_1[5][0]                     \n",
      "                                                                 lstm_1[6][0]                     \n",
      "                                                                 lstm_1[7][0]                     \n",
      "                                                                 lstm_1[8][0]                     \n",
      "                                                                 lstm_1[9][0]                     \n",
      "==================================================================================================\n",
      "Total params: 52,960\n",
      "Trainable params: 52,960\n",
      "Non-trainable params: 0\n",
      "__________________________________________________________________________________________________\n"
     ]
    }
   ],
   "source": [
    "model.summary()"
   ]
  },
  {
   "cell_type": "markdown",
   "metadata": {},
   "source": [
    "Navigate through the output of `model.summary()` above. You can see that the layer named `attention_weights` outputs the `alphas` of shape (m, 30, 1) before `dot_2` computes the context vector for every time step $t = 0, \\ldots, T_y-1$. Lets get the activations from this layer.\n",
    "\n",
    "The function `attention_map()` pulls out the attention values from your model and plots them."
   ]
  },
  {
   "cell_type": "code",
   "execution_count": 18,
   "metadata": {
    "scrolled": false
   },
   "outputs": [
    {
     "data": {
      "text/plain": [
       "<matplotlib.figure.Figure at 0x1d769c24cf8>"
      ]
     },
     "metadata": {},
     "output_type": "display_data"
    },
    {
     "data": {
      "image/png": "[encoded data removed]",
      "text/plain": [
       "<matplotlib.figure.Figure at 0x1d70fd08c50>"
      ]
     },
     "metadata": {},
     "output_type": "display_data"
    }
   ],
   "source": [
    "attention_map = plot_attention_map(model, human_vocab, inv_machine_vocab, \"Tuesday 09 Oct 1993\", num = 7, n_s = 64)"
   ]
  },
  {
   "cell_type": "markdown",
   "metadata": {},
   "source": [
    "On the generated plot you can observe the values of the attention weights for each character of the predicted output. Examine this plot and check that where the network is paying attention makes sense to you.\n",
    "\n",
    "In the date translation application, you will observe that most of the time attention helps predict the year, and hasn't much impact on predicting the day/month."
   ]
  },
  {
   "cell_type": "markdown",
   "metadata": {},
   "source": [
    "### Congratulations!\n",
    "\n",
    "\n",
    "You have come to the end of this assignment \n",
    "\n",
    "<font color='blue'> **Here's what you should remember from this notebook**:\n",
    "\n",
    "- Machine translation models can be used to map from one sequence to another. They are useful not just for translating human languages (like French->English) but also for tasks like date format translation. \n",
    "- An attention mechanism allows a network to focus on the most relevant parts of the input when producing a specific part of the output. \n",
    "- A network using an attention mechanism can translate from inputs of length $T_x$ to outputs of length $T_y$, where $T_x$ and $T_y$ can be different. \n",
    "- You can visualize attention weights $\\alpha^{\\langle t,t' \\rangle}$ to see what the network is paying attention to while generating each output."
   ]
  },
  {
   "cell_type": "markdown",
   "metadata": {},
   "source": [
    "Congratulations on finishing this assignment! You are now able to implement an attention model and use it to learn complex mappings from one sequence to another. "
   ]
  }
 ],
 "metadata": {
  "coursera": {
   "course_slug": "nlp-sequence-models",
   "graded_item_id": "n16CQ",
   "launcher_item_id": "npjGi"
  },
  "kernelspec": {
   "display_name": "Python 3",
   "language": "python",
   "name": "python3"
  },
  "language_info": {
   "codemirror_mode": {
    "name": "ipython",
    "version": 3
   },
   "file_extension": ".py",
   "mimetype": "text/x-python",
   "name": "python",
   "nbconvert_exporter": "python",
   "pygments_lexer": "ipython3",
   "version": "3.6.4"
  }
 },
 "nbformat": 4,
 "nbformat_minor": 2
}
